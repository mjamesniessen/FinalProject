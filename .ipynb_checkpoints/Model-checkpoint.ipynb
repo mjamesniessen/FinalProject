version https://git-lfs.github.com/spec/v1
oid sha256:207b9051a20643513d4b9191f8175631b2ca8c4f8eac6d6c24d6fb9ec90cc934
size 244170
