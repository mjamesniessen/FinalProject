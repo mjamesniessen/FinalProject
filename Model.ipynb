{
 "cells": [
  {
   "cell_type": "code",
   "execution_count": 74,
   "id": "aa4c3b28-485c-4b5b-942f-af54f1d956ef",
   "metadata": {},
   "outputs": [],
   "source": [
    "# import all necessary libraries\n",
    "import numpy as np\n",
    "\n",
    "import pandas as pd\n",
    "\n",
    "import seaborn as sns\n",
    "import matplotlib.pyplot as plt\n",
    "\n",
    "import tensorflow as tf\n",
    "from tensorflow import keras\n",
    "from keras.models import Model\n",
    "from tensorflow.keras import layers\n",
    "from tensorflow.keras.models import Sequential  \n",
    "from tensorflow.keras.layers import Dense\n",
    "from tensorflow.keras.layers import Dropout\n",
    "from tensorflow.keras.layers import Convolution2D \n",
    "from tensorflow.keras.layers import MaxPooling2D\n",
    "from tensorflow.keras.layers import Flatten\n",
    "from tensorflow.keras.preprocessing.image import ImageDataGenerator\n",
    "from tensorflow.keras.models import load_model\n",
    "from sklearn.neighbors import KNeighborsClassifier\n",
    "import sys\n",
    "\n",
    "import platform\n",
    "\n",
    "# import keras-tuner \n",
    "\n",
    "from sklearn.preprocessing import StandardScaler\n",
    "from sklearn.model_selection import train_test_split\n",
    "from sklearn import metrics\n",
    "from sklearn.metrics import accuracy_score, precision_score, recall_score\n",
    "from sklearn.svm import SVC\n",
    "from sklearn.neighbors import KNeighborsClassifier\n",
    "from sklearn.metrics import confusion_matrix, ConfusionMatrixDisplay\n",
    "\n",
    "from joblib import dump, load\n",
    "import joblib"
   ]
  },
  {
   "cell_type": "markdown",
   "id": "6609356a-c6b5-42b9-ad7f-66232a3f02b6",
   "metadata": {},
   "source": [
    "<h1>DATA PROCESSING</h1>"
   ]
  },
  {
   "cell_type": "code",
   "execution_count": 1,
   "id": "3c29f52d-a9a3-43cb-a0f8-68e48bc2febf",
   "metadata": {},
   "outputs": [],
   "source": [
    "# define path for training and testing directories\n",
    "train_dir = './Images/Training/'\n",
    "test_dir = './Images/Testing/'"
   ]
  },
  {
   "cell_type": "code",
   "execution_count": 21,
   "id": "351b78f1-f938-468d-9f3d-7e0eb4a792c3",
   "metadata": {},
   "outputs": [
    {
     "name": "stdout",
     "output_type": "stream",
     "text": [
      "Found 5712 files belonging to 4 classes.\n",
      "Using 4570 files for training.\n",
      "Found 5712 files belonging to 4 classes.\n",
      "Using 1142 files for validation.\n",
      "Found 1311 files belonging to 4 classes.\n"
     ]
    }
   ],
   "source": [
    "# read the image directories into a tf dataset, images are shuffled and normalized for size\n",
    "# 20% of the training data is used for validation\n",
    "\n",
    "IMG_SIZE = (180, 180)\n",
    "\n",
    "#Train DataSet\n",
    "train_dataset = keras.utils.image_dataset_from_directory(\n",
    "  train_dir,\n",
    "  label_mode='categorical',\n",
    "  validation_split = 0.2,\n",
    "  subset = \"training\",\n",
    "  seed = 123,\n",
    "  image_size = (IMG_SIZE),\n",
    "  batch_size = 32)\n",
    "\n",
    "#Validation DataSet\n",
    "val_dataset = keras.utils.image_dataset_from_directory(\n",
    "    train_dir,\n",
    "    label_mode='categorical',\n",
    "    validation_split = 0.2,\n",
    "    subset = 'validation',\n",
    "    seed = 123,\n",
    "    image_size = (IMG_SIZE),\n",
    "    batch_size = 32)\n",
    "\n",
    "#Test DataSet\n",
    "test_dataset = tf.keras.utils.image_dataset_from_directory(\n",
    "  test_dir,\n",
    "  label_mode='categorical',\n",
    "  seed = 123,\n",
    "  shuffle = True,\n",
    "  image_size = (IMG_SIZE),\n",
    "  batch_size = 32)"
   ]
  },
  {
   "cell_type": "code",
   "execution_count": 5,
   "id": "e5c7c1d9-0f17-49df-afea-a1ea88f69bd9",
   "metadata": {},
   "outputs": [
    {
     "name": "stdout",
     "output_type": "stream",
     "text": [
      "Found 5712 files belonging to 4 classes.\n",
      "Found 1311 files belonging to 4 classes.\n"
     ]
    }
   ],
   "source": [
    "# Create a non-shuffled dataset without validation\n",
    "\n",
    "IMG_SIZE = (180, 180)\n",
    "\n",
    "#Train DataSet\n",
    "tr_train_dataset = keras.utils.image_dataset_from_directory(\n",
    "  train_dir,\n",
    "  label_mode='categorical',\n",
    "  shuffle = False,\n",
    "  image_size = (IMG_SIZE),\n",
    "  batch_size = 32)\n",
    "\n",
    "#Test DataSet\n",
    "tr_test_dataset = tf.keras.utils.image_dataset_from_directory(\n",
    "  test_dir,\n",
    "  label_mode='categorical',\n",
    "  shuffle = False,\n",
    "  image_size = (IMG_SIZE),\n",
    "  batch_size = 32)"
   ]
  },
  {
   "cell_type": "code",
   "execution_count": 6,
   "id": "bd5135fc-b0fb-427c-8bcd-4998436f2cea",
   "metadata": {},
   "outputs": [],
   "source": [
    "# Obtain the labels for the non-shuffled datasets\n",
    "train_label = np.concatenate([y for x, y in tr_train_dataset], axis=0)\n",
    "test_label = np.concatenate([y for x, y in tr_test_dataset], axis=0)"
   ]
  },
  {
   "cell_type": "code",
   "execution_count": null,
   "id": "92bd5deb-6690-49d4-acc0-bf86ddc688f1",
   "metadata": {},
   "outputs": [],
   "source": []
  },
  {
   "cell_type": "markdown",
   "id": "239d81ba-e55b-4e89-941b-725c36f78a74",
   "metadata": {},
   "source": [
    "<h1>SEQ CNN</h1>"
   ]
  },
  {
   "cell_type": "code",
   "execution_count": null,
   "id": "04ed2068-dd57-413d-a256-d72216fcf913",
   "metadata": {},
   "outputs": [],
   "source": [
    "# Cache the training dataset for quicker training\n",
    "AUTOTUNE = tf.data.AUTOTUNE\n",
    "\n",
    "train_dataset = train_dataset.cache().shuffle(1000).prefetch(buffer_size=AUTOTUNE)\n",
    "val_dataset = val_dataset.cache().prefetch(buffer_size=AUTOTUNE)"
   ]
  },
  {
   "cell_type": "code",
   "execution_count": 104,
   "id": "f1c491ef-fea2-433a-bb4f-cadf5e5da968",
   "metadata": {},
   "outputs": [],
   "source": [
    "# rescale image \n",
    "normalization_layer = layers.Rescaling(1./255)\n",
    "\n",
    "# Distort data to create varied dataset\n",
    "data_augmentation = tf.keras.Sequential([\n",
    "  tf.keras.layers.RandomFlip('horizontal'),\n",
    "  tf.keras.layers.RandomZoom(0.1)\n",
    "])"
   ]
  },
  {
   "cell_type": "code",
   "execution_count": null,
   "id": "21890271-433a-4224-abe1-e649177e4e6d",
   "metadata": {},
   "outputs": [],
   "source": [
    "# create a funtion to build a model with variable parameters for use with keras tuner\n",
    "def build_model(hp):\n",
    "    num_classes = 4\n",
    "    seq_model = keras.Sequential()\n",
    "    seq_model.add(data_augmentation)\n",
    "    seq_model.add(normalization_layer)\n",
    "    # optimize the amount of convolutional layers as well as the size \n",
    "    for i in range(hp.Int('n_layers', 1, 4)):\n",
    "        seq_model.add(layers.Conv2D(hp.Int(f'conv_{i}_units',\n",
    "                                          min_value=32,\n",
    "                                          max_value=256,\n",
    "                                          step=32,), 1,\n",
    "                                    padding='same'))\n",
    "        seq_model.add(layers.BatchNormalization())\n",
    "        seq_model.add(layers.Activation('relu'))\n",
    "        seq_model.add(layers.MaxPooling2D())\n",
    "        # optimize the dropout value\n",
    "        seq_model.add(layers.Dropout(hp.Choice('dropout_valuec', values=[0.0,0.2,0.5])))\n",
    "    seq_model.add(layers.Flatten())\n",
    "    # optimize the size and amount of dense layers\n",
    "    for r in range(hp.Int('d_layers', 1, 4)):\n",
    "        seq_model.add(layers.Dense(hp.Int(f'dense_{r}_units',\n",
    "                                         min_value=32,\n",
    "                                         max_value=512,\n",
    "                                         step=32)))\n",
    "        seq_model.add(layers.Dropout(hp.Choice('dropout_valued', values=[0.0,0.2,0.5])))\n",
    "        # optimize the type of activation\n",
    "        seq_model.add(layers.Activation(hp.Choice(name=f'activation_{r}_type', \n",
    "                                                  values=['relu', 'sigmoid'],\n",
    "                                                 default='relu')))\n",
    "        \n",
    "    seq_model.add(layers.Dense(num_classes, activation = 'softmax'))\n",
    "    \n",
    "    # optimize the learning rate of the model\n",
    "    hp_learning_rate = hp.Float('learning_rate',\n",
    "                               min_value=1e-4,\n",
    "                               max_value=1e-2,\n",
    "                               sampling='LOG',\n",
    "                               default=1e-3)\n",
    "\n",
    "    # compile the model\n",
    "    seq_model.compile(optimizer=keras.optimizers.Adam(learning_rate=hp_learning_rate),\n",
    "                 loss=tf.keras.losses.CategoricalCrossentropy(),\n",
    "                 metrics=['accuracy'])\n",
    "    \n",
    "    return seq_model\n"
   ]
  },
  {
   "cell_type": "code",
   "execution_count": null,
   "id": "26f225c1-3b12-4988-9721-ef1a748383a9",
   "metadata": {},
   "outputs": [],
   "source": [
    "# initialize keras tuner object\n",
    "tuner = RandomSearch(\n",
    "    build_model,\n",
    "    objective='val_accuracy',\n",
    "    max_trials=80,\n",
    "    executions_per_trial=1,\n",
    ")\n"
   ]
  },
  {
   "cell_type": "code",
   "execution_count": null,
   "id": "92ced307-71f3-4a44-83a2-c2466633ed68",
   "metadata": {},
   "outputs": [],
   "source": [
    "tuner.search_space_summary()"
   ]
  },
  {
   "cell_type": "code",
   "execution_count": null,
   "id": "4edd532a-86c7-452f-a99d-147896ceadd5",
   "metadata": {},
   "outputs": [],
   "source": [
    "# begin hyperparameter optimization\n",
    "tuner.search(train_dataset,\n",
    "            verbose=2,\n",
    "            epochs=20,\n",
    "            validation_data=val_dataset)"
   ]
  },
  {
   "cell_type": "code",
   "execution_count": 105,
   "id": "1e978055-c57c-41a1-9be3-a960c34b2a4e",
   "metadata": {},
   "outputs": [],
   "source": [
    "# Build the optimal model as discovered by keras tuning\n",
    "num_classes = 4\n",
    "seq_model = keras.Sequential([\n",
    "    data_augmentation,\n",
    "    normalization_layer,\n",
    "    layers.Conv2D(64, 5, strides=1, padding='same'),\n",
    "    layers.Activation('relu'),\n",
    "    layers.MaxPooling2D(),\n",
    "    layers.Conv2D(64, 5, strides=1, padding='same'),\n",
    "    layers.Activation('relu'),\n",
    "    layers.MaxPooling2D(name='feature_layer'),\n",
    "    layers.Dropout(0.2),\n",
    "    layers.Flatten(),\n",
    "    layers.Dropout(0.2),\n",
    "    layers.Dense(256),\n",
    "    layers.Activation('relu'),\n",
    "    layers.Dense(128),\n",
    "    layers.Activation('relu'),\n",
    "    layers.Dense(num_classes, activation = 'softmax', name=\"outputs\")\n",
    "])"
   ]
  },
  {
   "cell_type": "code",
   "execution_count": 107,
   "id": "edf1b9e7-240f-49bd-a31b-400c731eb90d",
   "metadata": {},
   "outputs": [],
   "source": [
    "# compile the model\n",
    "seq_model.compile(optimizer='adam',\n",
    "              loss=tf.keras.losses.CategoricalCrossentropy(),\n",
    "              metrics=['categorical_accuracy', keras.metrics.Precision(), keras.metrics.Recall()])"
   ]
  },
  {
   "cell_type": "code",
   "execution_count": 110,
   "id": "40fc072a-f5b0-4e60-971f-33cb6bdda3af",
   "metadata": {},
   "outputs": [
    {
     "name": "stdout",
     "output_type": "stream",
     "text": [
      "WARNING:tensorflow:Using a while_loop for converting RngReadAndSkip cause there is no registered converter for this op.\n"
     ]
    },
    {
     "name": "stderr",
     "output_type": "stream",
     "text": [
      "WARNING:tensorflow:Using a while_loop for converting RngReadAndSkip cause there is no registered converter for this op.\n"
     ]
    },
    {
     "name": "stdout",
     "output_type": "stream",
     "text": [
      "WARNING:tensorflow:Using a while_loop for converting Bitcast cause there is no registered converter for this op.\n"
     ]
    },
    {
     "name": "stderr",
     "output_type": "stream",
     "text": [
      "WARNING:tensorflow:Using a while_loop for converting Bitcast cause there is no registered converter for this op.\n"
     ]
    },
    {
     "name": "stdout",
     "output_type": "stream",
     "text": [
      "WARNING:tensorflow:Using a while_loop for converting Bitcast cause there is no registered converter for this op.\n"
     ]
    },
    {
     "name": "stderr",
     "output_type": "stream",
     "text": [
      "WARNING:tensorflow:Using a while_loop for converting Bitcast cause there is no registered converter for this op.\n"
     ]
    },
    {
     "name": "stdout",
     "output_type": "stream",
     "text": [
      "WARNING:tensorflow:Using a while_loop for converting StatelessRandomUniformV2 cause there is no registered converter for this op.\n"
     ]
    },
    {
     "name": "stderr",
     "output_type": "stream",
     "text": [
      "WARNING:tensorflow:Using a while_loop for converting StatelessRandomUniformV2 cause there is no registered converter for this op.\n"
     ]
    },
    {
     "name": "stdout",
     "output_type": "stream",
     "text": [
      "WARNING:tensorflow:Using a while_loop for converting ImageProjectiveTransformV3 cause there is no registered converter for this op.\n"
     ]
    },
    {
     "name": "stderr",
     "output_type": "stream",
     "text": [
      "WARNING:tensorflow:Using a while_loop for converting ImageProjectiveTransformV3 cause there is no registered converter for this op.\n"
     ]
    },
    {
     "name": "stdout",
     "output_type": "stream",
     "text": [
      "WARNING:tensorflow:Using a while_loop for converting RngReadAndSkip cause there is no registered converter for this op.\n"
     ]
    },
    {
     "name": "stderr",
     "output_type": "stream",
     "text": [
      "WARNING:tensorflow:Using a while_loop for converting RngReadAndSkip cause there is no registered converter for this op.\n"
     ]
    },
    {
     "name": "stdout",
     "output_type": "stream",
     "text": [
      "WARNING:tensorflow:Using a while_loop for converting Bitcast cause there is no registered converter for this op.\n"
     ]
    },
    {
     "name": "stderr",
     "output_type": "stream",
     "text": [
      "WARNING:tensorflow:Using a while_loop for converting Bitcast cause there is no registered converter for this op.\n"
     ]
    },
    {
     "name": "stdout",
     "output_type": "stream",
     "text": [
      "WARNING:tensorflow:Using a while_loop for converting Bitcast cause there is no registered converter for this op.\n"
     ]
    },
    {
     "name": "stderr",
     "output_type": "stream",
     "text": [
      "WARNING:tensorflow:Using a while_loop for converting Bitcast cause there is no registered converter for this op.\n"
     ]
    },
    {
     "name": "stdout",
     "output_type": "stream",
     "text": [
      "WARNING:tensorflow:Using a while_loop for converting StatelessRandomUniformV2 cause there is no registered converter for this op.\n"
     ]
    },
    {
     "name": "stderr",
     "output_type": "stream",
     "text": [
      "WARNING:tensorflow:Using a while_loop for converting StatelessRandomUniformV2 cause there is no registered converter for this op.\n"
     ]
    },
    {
     "name": "stdout",
     "output_type": "stream",
     "text": [
      "WARNING:tensorflow:Using a while_loop for converting ImageProjectiveTransformV3 cause there is no registered converter for this op.\n"
     ]
    },
    {
     "name": "stderr",
     "output_type": "stream",
     "text": [
      "WARNING:tensorflow:Using a while_loop for converting ImageProjectiveTransformV3 cause there is no registered converter for this op.\n"
     ]
    },
    {
     "name": "stdout",
     "output_type": "stream",
     "text": [
      "WARNING:tensorflow:Using a while_loop for converting RngReadAndSkip cause there is no registered converter for this op.\n"
     ]
    },
    {
     "name": "stderr",
     "output_type": "stream",
     "text": [
      "WARNING:tensorflow:Using a while_loop for converting RngReadAndSkip cause there is no registered converter for this op.\n"
     ]
    },
    {
     "name": "stdout",
     "output_type": "stream",
     "text": [
      "WARNING:tensorflow:Using a while_loop for converting Bitcast cause there is no registered converter for this op.\n"
     ]
    },
    {
     "name": "stderr",
     "output_type": "stream",
     "text": [
      "WARNING:tensorflow:Using a while_loop for converting Bitcast cause there is no registered converter for this op.\n"
     ]
    },
    {
     "name": "stdout",
     "output_type": "stream",
     "text": [
      "WARNING:tensorflow:Using a while_loop for converting Bitcast cause there is no registered converter for this op.\n"
     ]
    },
    {
     "name": "stderr",
     "output_type": "stream",
     "text": [
      "WARNING:tensorflow:Using a while_loop for converting Bitcast cause there is no registered converter for this op.\n"
     ]
    },
    {
     "name": "stdout",
     "output_type": "stream",
     "text": [
      "WARNING:tensorflow:Using a while_loop for converting StatelessRandomUniformV2 cause there is no registered converter for this op.\n"
     ]
    },
    {
     "name": "stderr",
     "output_type": "stream",
     "text": [
      "WARNING:tensorflow:Using a while_loop for converting StatelessRandomUniformV2 cause there is no registered converter for this op.\n"
     ]
    },
    {
     "name": "stdout",
     "output_type": "stream",
     "text": [
      "WARNING:tensorflow:Using a while_loop for converting ImageProjectiveTransformV3 cause there is no registered converter for this op.\n"
     ]
    },
    {
     "name": "stderr",
     "output_type": "stream",
     "text": [
      "WARNING:tensorflow:Using a while_loop for converting ImageProjectiveTransformV3 cause there is no registered converter for this op.\n"
     ]
    },
    {
     "name": "stdout",
     "output_type": "stream",
     "text": [
      "WARNING:tensorflow:Using a while_loop for converting RngReadAndSkip cause there is no registered converter for this op.\n"
     ]
    },
    {
     "name": "stderr",
     "output_type": "stream",
     "text": [
      "WARNING:tensorflow:Using a while_loop for converting RngReadAndSkip cause there is no registered converter for this op.\n"
     ]
    },
    {
     "name": "stdout",
     "output_type": "stream",
     "text": [
      "WARNING:tensorflow:Using a while_loop for converting Bitcast cause there is no registered converter for this op.\n"
     ]
    },
    {
     "name": "stderr",
     "output_type": "stream",
     "text": [
      "WARNING:tensorflow:Using a while_loop for converting Bitcast cause there is no registered converter for this op.\n"
     ]
    },
    {
     "name": "stdout",
     "output_type": "stream",
     "text": [
      "WARNING:tensorflow:Using a while_loop for converting Bitcast cause there is no registered converter for this op.\n"
     ]
    },
    {
     "name": "stderr",
     "output_type": "stream",
     "text": [
      "WARNING:tensorflow:Using a while_loop for converting Bitcast cause there is no registered converter for this op.\n"
     ]
    },
    {
     "name": "stdout",
     "output_type": "stream",
     "text": [
      "WARNING:tensorflow:Using a while_loop for converting StatelessRandomUniformV2 cause there is no registered converter for this op.\n"
     ]
    },
    {
     "name": "stderr",
     "output_type": "stream",
     "text": [
      "WARNING:tensorflow:Using a while_loop for converting StatelessRandomUniformV2 cause there is no registered converter for this op.\n"
     ]
    },
    {
     "name": "stdout",
     "output_type": "stream",
     "text": [
      "WARNING:tensorflow:Using a while_loop for converting ImageProjectiveTransformV3 cause there is no registered converter for this op.\n"
     ]
    },
    {
     "name": "stderr",
     "output_type": "stream",
     "text": [
      "WARNING:tensorflow:Using a while_loop for converting ImageProjectiveTransformV3 cause there is no registered converter for this op.\n"
     ]
    },
    {
     "name": "stdout",
     "output_type": "stream",
     "text": [
      "143/143 [==============================] - 660s 5s/step - loss: 0.8664 - categorical_accuracy: 0.6584 - precision_1: 0.7395 - recall_1: 0.5298 - val_loss: 0.5326 - val_categorical_accuracy: 0.8074 - val_precision_1: 0.8340 - val_recall_1: 0.7785\n"
     ]
    }
   ],
   "source": [
    "# model training parameters\n",
    "epochs = 1\n",
    "history = seq_model.fit(\n",
    "    train_dataset,\n",
    "    validation_data=val_dataset,\n",
    "    epochs=epochs,\n",
    ")"
   ]
  },
  {
   "cell_type": "code",
   "execution_count": 111,
   "id": "e6690fd7-6df7-4c46-a3d4-372093a0895f",
   "metadata": {},
   "outputs": [
    {
     "name": "stdout",
     "output_type": "stream",
     "text": [
      "Model: \"sequential_1\"\n",
      "_________________________________________________________________\n",
      " Layer (type)                Output Shape              Param #   \n",
      "=================================================================\n",
      " sequential (Sequential)     (None, 180, 180, 3)       0         \n",
      "                                                                 \n",
      " rescaling (Rescaling)       (None, 180, 180, 3)       0         \n",
      "                                                                 \n",
      " conv2d (Conv2D)             (None, 180, 180, 64)      4864      \n",
      "                                                                 \n",
      " activation (Activation)     (None, 180, 180, 64)      0         \n",
      "                                                                 \n",
      " max_pooling2d (MaxPooling2D  (None, 90, 90, 64)       0         \n",
      " )                                                               \n",
      "                                                                 \n",
      " conv2d_1 (Conv2D)           (None, 90, 90, 64)        102464    \n",
      "                                                                 \n",
      " activation_1 (Activation)   (None, 90, 90, 64)        0         \n",
      "                                                                 \n",
      " feature_layer (MaxPooling2D  (None, 45, 45, 64)       0         \n",
      " )                                                               \n",
      "                                                                 \n",
      " dropout (Dropout)           (None, 45, 45, 64)        0         \n",
      "                                                                 \n",
      " flatten (Flatten)           (None, 129600)            0         \n",
      "                                                                 \n",
      " dropout_1 (Dropout)         (None, 129600)            0         \n",
      "                                                                 \n",
      " dense (Dense)               (None, 256)               33177856  \n",
      "                                                                 \n",
      " activation_2 (Activation)   (None, 256)               0         \n",
      "                                                                 \n",
      " dense_1 (Dense)             (None, 128)               32896     \n",
      "                                                                 \n",
      " activation_3 (Activation)   (None, 128)               0         \n",
      "                                                                 \n",
      " outputs (Dense)             (None, 4)                 516       \n",
      "                                                                 \n",
      "=================================================================\n",
      "Total params: 33,318,596\n",
      "Trainable params: 33,318,596\n",
      "Non-trainable params: 0\n",
      "_________________________________________________________________\n"
     ]
    }
   ],
   "source": [
    "seq_model.summary()"
   ]
  },
  {
   "cell_type": "code",
   "execution_count": 13,
   "id": "90d464a5-9b8a-4f87-b740-0f905623ddb8",
   "metadata": {},
   "outputs": [],
   "source": [
    "# stop if model has not improved within 10 epochs reload the best weights\n",
    "early_stopping_cb = keras.callbacks.EarlyStopping(\n",
    "    patience=10,\n",
    "    restore_best_weights=True\n",
    ")"
   ]
  },
  {
   "cell_type": "code",
   "execution_count": 15,
   "id": "edd78506-2706-47d4-b02c-144ec55a7800",
   "metadata": {},
   "outputs": [
    {
     "name": "stdout",
     "output_type": "stream",
     "text": [
      "Epoch 1/20\n",
      "143/143 [==============================] - 6s 44ms/step - loss: 0.4480 - categorical_accuracy: 0.8344 - val_loss: 0.3571 - val_categorical_accuracy: 0.8809\n",
      "Epoch 2/20\n",
      "143/143 [==============================] - 7s 50ms/step - loss: 0.3585 - categorical_accuracy: 0.8639 - val_loss: 0.3158 - val_categorical_accuracy: 0.8853\n",
      "Epoch 3/20\n",
      "143/143 [==============================] - 7s 48ms/step - loss: 0.2753 - categorical_accuracy: 0.8950 - val_loss: 0.3332 - val_categorical_accuracy: 0.8888\n",
      "Epoch 4/20\n",
      "143/143 [==============================] - 7s 46ms/step - loss: 0.2493 - categorical_accuracy: 0.9074 - val_loss: 0.2461 - val_categorical_accuracy: 0.9116\n",
      "Epoch 5/20\n",
      "143/143 [==============================] - 7s 46ms/step - loss: 0.2016 - categorical_accuracy: 0.9230 - val_loss: 0.2321 - val_categorical_accuracy: 0.9186\n",
      "Epoch 6/20\n",
      "143/143 [==============================] - 7s 46ms/step - loss: 0.1910 - categorical_accuracy: 0.9274 - val_loss: 0.2432 - val_categorical_accuracy: 0.9124\n",
      "Epoch 7/20\n",
      "143/143 [==============================] - 7s 46ms/step - loss: 0.1593 - categorical_accuracy: 0.9396 - val_loss: 0.2084 - val_categorical_accuracy: 0.9299\n",
      "Epoch 8/20\n",
      "143/143 [==============================] - 7s 46ms/step - loss: 0.1593 - categorical_accuracy: 0.9473 - val_loss: 0.2301 - val_categorical_accuracy: 0.9221\n",
      "Epoch 9/20\n",
      "143/143 [==============================] - 7s 46ms/step - loss: 0.1171 - categorical_accuracy: 0.9597 - val_loss: 0.1926 - val_categorical_accuracy: 0.9317\n",
      "Epoch 10/20\n",
      "143/143 [==============================] - 7s 49ms/step - loss: 0.1045 - categorical_accuracy: 0.9617 - val_loss: 0.2340 - val_categorical_accuracy: 0.9291\n",
      "Epoch 11/20\n",
      "143/143 [==============================] - 7s 50ms/step - loss: 0.0880 - categorical_accuracy: 0.9687 - val_loss: 0.1966 - val_categorical_accuracy: 0.9510\n",
      "Epoch 12/20\n",
      "143/143 [==============================] - 7s 46ms/step - loss: 0.0947 - categorical_accuracy: 0.9628 - val_loss: 0.2181 - val_categorical_accuracy: 0.9527\n",
      "Epoch 13/20\n",
      "143/143 [==============================] - 7s 46ms/step - loss: 0.0726 - categorical_accuracy: 0.9737 - val_loss: 0.1980 - val_categorical_accuracy: 0.9378\n",
      "Epoch 14/20\n",
      "143/143 [==============================] - 7s 46ms/step - loss: 0.0735 - categorical_accuracy: 0.9731 - val_loss: 0.2194 - val_categorical_accuracy: 0.9413\n",
      "Epoch 15/20\n",
      "143/143 [==============================] - 7s 48ms/step - loss: 0.0721 - categorical_accuracy: 0.9777 - val_loss: 0.1662 - val_categorical_accuracy: 0.9571\n",
      "Epoch 16/20\n",
      "143/143 [==============================] - 7s 46ms/step - loss: 0.0588 - categorical_accuracy: 0.9807 - val_loss: 0.2061 - val_categorical_accuracy: 0.9518\n",
      "Epoch 17/20\n",
      "143/143 [==============================] - 7s 47ms/step - loss: 0.0679 - categorical_accuracy: 0.9751 - val_loss: 0.1928 - val_categorical_accuracy: 0.9562\n",
      "Epoch 18/20\n",
      "143/143 [==============================] - 7s 47ms/step - loss: 0.0479 - categorical_accuracy: 0.9818 - val_loss: 0.1569 - val_categorical_accuracy: 0.9597\n",
      "Epoch 19/20\n",
      "143/143 [==============================] - 7s 47ms/step - loss: 0.0465 - categorical_accuracy: 0.9847 - val_loss: 0.1537 - val_categorical_accuracy: 0.9571\n",
      "Epoch 20/20\n",
      "143/143 [==============================] - 7s 46ms/step - loss: 0.0502 - categorical_accuracy: 0.9812 - val_loss: 0.1859 - val_categorical_accuracy: 0.9553\n",
      "INFO:tensorflow:Unsupported signature for serialization: ((TensorSpec(shape=(5, 5, 3, 64), dtype=tf.float32, name='gradient'), <tensorflow.python.framework.func_graph.UnknownArgument object at 0x7fd118144350>, 140536029179744), {}).\n"
     ]
    },
    {
     "name": "stderr",
     "output_type": "stream",
     "text": [
      "INFO:tensorflow:Unsupported signature for serialization: ((TensorSpec(shape=(5, 5, 3, 64), dtype=tf.float32, name='gradient'), <tensorflow.python.framework.func_graph.UnknownArgument object at 0x7fd118144350>, 140536029179744), {}).\n"
     ]
    },
    {
     "name": "stdout",
     "output_type": "stream",
     "text": [
      "INFO:tensorflow:Unsupported signature for serialization: ((TensorSpec(shape=(64,), dtype=tf.float32, name='gradient'), <tensorflow.python.framework.func_graph.UnknownArgument object at 0x7fd0f8152950>, 140536029318720), {}).\n"
     ]
    },
    {
     "name": "stderr",
     "output_type": "stream",
     "text": [
      "INFO:tensorflow:Unsupported signature for serialization: ((TensorSpec(shape=(64,), dtype=tf.float32, name='gradient'), <tensorflow.python.framework.func_graph.UnknownArgument object at 0x7fd0f8152950>, 140536029318720), {}).\n"
     ]
    },
    {
     "name": "stdout",
     "output_type": "stream",
     "text": [
      "INFO:tensorflow:Unsupported signature for serialization: ((TensorSpec(shape=(5, 5, 64, 64), dtype=tf.float32, name='gradient'), <tensorflow.python.framework.func_graph.UnknownArgument object at 0x7fd0f813d090>, 140536029324800), {}).\n"
     ]
    },
    {
     "name": "stderr",
     "output_type": "stream",
     "text": [
      "INFO:tensorflow:Unsupported signature for serialization: ((TensorSpec(shape=(5, 5, 64, 64), dtype=tf.float32, name='gradient'), <tensorflow.python.framework.func_graph.UnknownArgument object at 0x7fd0f813d090>, 140536029324800), {}).\n"
     ]
    },
    {
     "name": "stdout",
     "output_type": "stream",
     "text": [
      "INFO:tensorflow:Unsupported signature for serialization: ((TensorSpec(shape=(64,), dtype=tf.float32, name='gradient'), <tensorflow.python.framework.func_graph.UnknownArgument object at 0x7fd0f8159f50>, 140536029325760), {}).\n"
     ]
    },
    {
     "name": "stderr",
     "output_type": "stream",
     "text": [
      "INFO:tensorflow:Unsupported signature for serialization: ((TensorSpec(shape=(64,), dtype=tf.float32, name='gradient'), <tensorflow.python.framework.func_graph.UnknownArgument object at 0x7fd0f8159f50>, 140536029325760), {}).\n"
     ]
    },
    {
     "name": "stdout",
     "output_type": "stream",
     "text": [
      "INFO:tensorflow:Unsupported signature for serialization: ((TensorSpec(shape=(129600, 256), dtype=tf.float32, name='gradient'), <tensorflow.python.framework.func_graph.UnknownArgument object at 0x7fd0f8164c10>, 140536029331280), {}).\n"
     ]
    },
    {
     "name": "stderr",
     "output_type": "stream",
     "text": [
      "INFO:tensorflow:Unsupported signature for serialization: ((TensorSpec(shape=(129600, 256), dtype=tf.float32, name='gradient'), <tensorflow.python.framework.func_graph.UnknownArgument object at 0x7fd0f8164c10>, 140536029331280), {}).\n"
     ]
    },
    {
     "name": "stdout",
     "output_type": "stream",
     "text": [
      "INFO:tensorflow:Unsupported signature for serialization: ((TensorSpec(shape=(256,), dtype=tf.float32, name='gradient'), <tensorflow.python.framework.func_graph.UnknownArgument object at 0x7fd0f8177a10>, 140536029340848), {}).\n"
     ]
    },
    {
     "name": "stderr",
     "output_type": "stream",
     "text": [
      "INFO:tensorflow:Unsupported signature for serialization: ((TensorSpec(shape=(256,), dtype=tf.float32, name='gradient'), <tensorflow.python.framework.func_graph.UnknownArgument object at 0x7fd0f8177a10>, 140536029340848), {}).\n"
     ]
    },
    {
     "name": "stdout",
     "output_type": "stream",
     "text": [
      "INFO:tensorflow:Unsupported signature for serialization: ((TensorSpec(shape=(256, 128), dtype=tf.float32, name='gradient'), <tensorflow.python.framework.func_graph.UnknownArgument object at 0x7fd0f818a810>, 140536029329360), {}).\n"
     ]
    },
    {
     "name": "stderr",
     "output_type": "stream",
     "text": [
      "INFO:tensorflow:Unsupported signature for serialization: ((TensorSpec(shape=(256, 128), dtype=tf.float32, name='gradient'), <tensorflow.python.framework.func_graph.UnknownArgument object at 0x7fd0f818a810>, 140536029329360), {}).\n"
     ]
    },
    {
     "name": "stdout",
     "output_type": "stream",
     "text": [
      "INFO:tensorflow:Unsupported signature for serialization: ((TensorSpec(shape=(128,), dtype=tf.float32, name='gradient'), <tensorflow.python.framework.func_graph.UnknownArgument object at 0x7fd0f819d650>, 140536029327360), {}).\n"
     ]
    },
    {
     "name": "stderr",
     "output_type": "stream",
     "text": [
      "INFO:tensorflow:Unsupported signature for serialization: ((TensorSpec(shape=(128,), dtype=tf.float32, name='gradient'), <tensorflow.python.framework.func_graph.UnknownArgument object at 0x7fd0f819d650>, 140536029327360), {}).\n"
     ]
    },
    {
     "name": "stdout",
     "output_type": "stream",
     "text": [
      "INFO:tensorflow:Unsupported signature for serialization: ((TensorSpec(shape=(128, 4), dtype=tf.float32, name='gradient'), <tensorflow.python.framework.func_graph.UnknownArgument object at 0x7fd0f81a8650>, 140536029414304), {}).\n"
     ]
    },
    {
     "name": "stderr",
     "output_type": "stream",
     "text": [
      "INFO:tensorflow:Unsupported signature for serialization: ((TensorSpec(shape=(128, 4), dtype=tf.float32, name='gradient'), <tensorflow.python.framework.func_graph.UnknownArgument object at 0x7fd0f81a8650>, 140536029414304), {}).\n"
     ]
    },
    {
     "name": "stdout",
     "output_type": "stream",
     "text": [
      "INFO:tensorflow:Unsupported signature for serialization: ((TensorSpec(shape=(4,), dtype=tf.float32, name='gradient'), <tensorflow.python.framework.func_graph.UnknownArgument object at 0x7fd0f81b3410>, 140536029414784), {}).\n"
     ]
    },
    {
     "name": "stderr",
     "output_type": "stream",
     "text": [
      "INFO:tensorflow:Unsupported signature for serialization: ((TensorSpec(shape=(4,), dtype=tf.float32, name='gradient'), <tensorflow.python.framework.func_graph.UnknownArgument object at 0x7fd0f81b3410>, 140536029414784), {}).\n"
     ]
    },
    {
     "name": "stdout",
     "output_type": "stream",
     "text": [
      "INFO:tensorflow:Unsupported signature for serialization: ((TensorSpec(shape=(5, 5, 3, 64), dtype=tf.float32, name='gradient'), <tensorflow.python.framework.func_graph.UnknownArgument object at 0x7fd118144350>, 140536029179744), {}).\n"
     ]
    },
    {
     "name": "stderr",
     "output_type": "stream",
     "text": [
      "INFO:tensorflow:Unsupported signature for serialization: ((TensorSpec(shape=(5, 5, 3, 64), dtype=tf.float32, name='gradient'), <tensorflow.python.framework.func_graph.UnknownArgument object at 0x7fd118144350>, 140536029179744), {}).\n"
     ]
    },
    {
     "name": "stdout",
     "output_type": "stream",
     "text": [
      "INFO:tensorflow:Unsupported signature for serialization: ((TensorSpec(shape=(64,), dtype=tf.float32, name='gradient'), <tensorflow.python.framework.func_graph.UnknownArgument object at 0x7fd0f8152950>, 140536029318720), {}).\n"
     ]
    },
    {
     "name": "stderr",
     "output_type": "stream",
     "text": [
      "INFO:tensorflow:Unsupported signature for serialization: ((TensorSpec(shape=(64,), dtype=tf.float32, name='gradient'), <tensorflow.python.framework.func_graph.UnknownArgument object at 0x7fd0f8152950>, 140536029318720), {}).\n"
     ]
    },
    {
     "name": "stdout",
     "output_type": "stream",
     "text": [
      "INFO:tensorflow:Unsupported signature for serialization: ((TensorSpec(shape=(5, 5, 64, 64), dtype=tf.float32, name='gradient'), <tensorflow.python.framework.func_graph.UnknownArgument object at 0x7fd0f813d090>, 140536029324800), {}).\n"
     ]
    },
    {
     "name": "stderr",
     "output_type": "stream",
     "text": [
      "INFO:tensorflow:Unsupported signature for serialization: ((TensorSpec(shape=(5, 5, 64, 64), dtype=tf.float32, name='gradient'), <tensorflow.python.framework.func_graph.UnknownArgument object at 0x7fd0f813d090>, 140536029324800), {}).\n"
     ]
    },
    {
     "name": "stdout",
     "output_type": "stream",
     "text": [
      "INFO:tensorflow:Unsupported signature for serialization: ((TensorSpec(shape=(64,), dtype=tf.float32, name='gradient'), <tensorflow.python.framework.func_graph.UnknownArgument object at 0x7fd0f8159f50>, 140536029325760), {}).\n"
     ]
    },
    {
     "name": "stderr",
     "output_type": "stream",
     "text": [
      "INFO:tensorflow:Unsupported signature for serialization: ((TensorSpec(shape=(64,), dtype=tf.float32, name='gradient'), <tensorflow.python.framework.func_graph.UnknownArgument object at 0x7fd0f8159f50>, 140536029325760), {}).\n"
     ]
    },
    {
     "name": "stdout",
     "output_type": "stream",
     "text": [
      "INFO:tensorflow:Unsupported signature for serialization: ((TensorSpec(shape=(129600, 256), dtype=tf.float32, name='gradient'), <tensorflow.python.framework.func_graph.UnknownArgument object at 0x7fd0f8164c10>, 140536029331280), {}).\n"
     ]
    },
    {
     "name": "stderr",
     "output_type": "stream",
     "text": [
      "INFO:tensorflow:Unsupported signature for serialization: ((TensorSpec(shape=(129600, 256), dtype=tf.float32, name='gradient'), <tensorflow.python.framework.func_graph.UnknownArgument object at 0x7fd0f8164c10>, 140536029331280), {}).\n"
     ]
    },
    {
     "name": "stdout",
     "output_type": "stream",
     "text": [
      "INFO:tensorflow:Unsupported signature for serialization: ((TensorSpec(shape=(256,), dtype=tf.float32, name='gradient'), <tensorflow.python.framework.func_graph.UnknownArgument object at 0x7fd0f8177a10>, 140536029340848), {}).\n"
     ]
    },
    {
     "name": "stderr",
     "output_type": "stream",
     "text": [
      "INFO:tensorflow:Unsupported signature for serialization: ((TensorSpec(shape=(256,), dtype=tf.float32, name='gradient'), <tensorflow.python.framework.func_graph.UnknownArgument object at 0x7fd0f8177a10>, 140536029340848), {}).\n"
     ]
    },
    {
     "name": "stdout",
     "output_type": "stream",
     "text": [
      "INFO:tensorflow:Unsupported signature for serialization: ((TensorSpec(shape=(256, 128), dtype=tf.float32, name='gradient'), <tensorflow.python.framework.func_graph.UnknownArgument object at 0x7fd0f818a810>, 140536029329360), {}).\n"
     ]
    },
    {
     "name": "stderr",
     "output_type": "stream",
     "text": [
      "INFO:tensorflow:Unsupported signature for serialization: ((TensorSpec(shape=(256, 128), dtype=tf.float32, name='gradient'), <tensorflow.python.framework.func_graph.UnknownArgument object at 0x7fd0f818a810>, 140536029329360), {}).\n"
     ]
    },
    {
     "name": "stdout",
     "output_type": "stream",
     "text": [
      "INFO:tensorflow:Unsupported signature for serialization: ((TensorSpec(shape=(128,), dtype=tf.float32, name='gradient'), <tensorflow.python.framework.func_graph.UnknownArgument object at 0x7fd0f819d650>, 140536029327360), {}).\n"
     ]
    },
    {
     "name": "stderr",
     "output_type": "stream",
     "text": [
      "INFO:tensorflow:Unsupported signature for serialization: ((TensorSpec(shape=(128,), dtype=tf.float32, name='gradient'), <tensorflow.python.framework.func_graph.UnknownArgument object at 0x7fd0f819d650>, 140536029327360), {}).\n"
     ]
    },
    {
     "name": "stdout",
     "output_type": "stream",
     "text": [
      "INFO:tensorflow:Unsupported signature for serialization: ((TensorSpec(shape=(128, 4), dtype=tf.float32, name='gradient'), <tensorflow.python.framework.func_graph.UnknownArgument object at 0x7fd0f81a8650>, 140536029414304), {}).\n"
     ]
    },
    {
     "name": "stderr",
     "output_type": "stream",
     "text": [
      "INFO:tensorflow:Unsupported signature for serialization: ((TensorSpec(shape=(128, 4), dtype=tf.float32, name='gradient'), <tensorflow.python.framework.func_graph.UnknownArgument object at 0x7fd0f81a8650>, 140536029414304), {}).\n"
     ]
    },
    {
     "name": "stdout",
     "output_type": "stream",
     "text": [
      "INFO:tensorflow:Unsupported signature for serialization: ((TensorSpec(shape=(4,), dtype=tf.float32, name='gradient'), <tensorflow.python.framework.func_graph.UnknownArgument object at 0x7fd0f81b3410>, 140536029414784), {}).\n"
     ]
    },
    {
     "name": "stderr",
     "output_type": "stream",
     "text": [
      "INFO:tensorflow:Unsupported signature for serialization: ((TensorSpec(shape=(4,), dtype=tf.float32, name='gradient'), <tensorflow.python.framework.func_graph.UnknownArgument object at 0x7fd0f81b3410>, 140536029414784), {}).\n"
     ]
    },
    {
     "name": "stdout",
     "output_type": "stream",
     "text": [
      "INFO:tensorflow:Assets written to: Brain_Tumor_Seq/assets\n"
     ]
    },
    {
     "name": "stderr",
     "output_type": "stream",
     "text": [
      "INFO:tensorflow:Assets written to: Brain_Tumor_Seq/assets\n"
     ]
    }
   ],
   "source": [
    "# model training parameters\n",
    "epochs = 20\n",
    "history = seq_model.fit(\n",
    "    train_dataset,\n",
    "    validation_data=val_dataset,\n",
    "    epochs=epochs,\n",
    "    callbacks=[\n",
    "        early_stopping_cb\n",
    "    ]\n",
    ")\n",
    "\n"
   ]
  },
  {
   "cell_type": "code",
   "execution_count": 18,
   "id": "b8bada2c-3d26-4204-aa57-cfb1ba311ba6",
   "metadata": {},
   "outputs": [
    {
     "name": "stdout",
     "output_type": "stream",
     "text": [
      "WARNING:tensorflow:Compiled the loaded model, but the compiled metrics have yet to be built. `model.compile_metrics` will be empty until you train or evaluate the model.\n"
     ]
    },
    {
     "name": "stderr",
     "output_type": "stream",
     "text": [
      "WARNING:tensorflow:Compiled the loaded model, but the compiled metrics have yet to be built. `model.compile_metrics` will be empty until you train or evaluate the model.\n"
     ]
    },
    {
     "name": "stdout",
     "output_type": "stream",
     "text": [
      "WARNING:tensorflow:Using a while_loop for converting RngReadAndSkip cause there is no registered converter for this op.\n"
     ]
    },
    {
     "name": "stderr",
     "output_type": "stream",
     "text": [
      "WARNING:tensorflow:Using a while_loop for converting RngReadAndSkip cause there is no registered converter for this op.\n"
     ]
    },
    {
     "name": "stdout",
     "output_type": "stream",
     "text": [
      "WARNING:tensorflow:Using a while_loop for converting Bitcast cause there is no registered converter for this op.\n"
     ]
    },
    {
     "name": "stderr",
     "output_type": "stream",
     "text": [
      "WARNING:tensorflow:Using a while_loop for converting Bitcast cause there is no registered converter for this op.\n"
     ]
    },
    {
     "name": "stdout",
     "output_type": "stream",
     "text": [
      "WARNING:tensorflow:Using a while_loop for converting Bitcast cause there is no registered converter for this op.\n"
     ]
    },
    {
     "name": "stderr",
     "output_type": "stream",
     "text": [
      "WARNING:tensorflow:Using a while_loop for converting Bitcast cause there is no registered converter for this op.\n"
     ]
    },
    {
     "name": "stdout",
     "output_type": "stream",
     "text": [
      "WARNING:tensorflow:Using a while_loop for converting StatelessRandomUniformV2 cause there is no registered converter for this op.\n"
     ]
    },
    {
     "name": "stderr",
     "output_type": "stream",
     "text": [
      "WARNING:tensorflow:Using a while_loop for converting StatelessRandomUniformV2 cause there is no registered converter for this op.\n"
     ]
    },
    {
     "name": "stdout",
     "output_type": "stream",
     "text": [
      "WARNING:tensorflow:Using a while_loop for converting ImageProjectiveTransformV3 cause there is no registered converter for this op.\n"
     ]
    },
    {
     "name": "stderr",
     "output_type": "stream",
     "text": [
      "WARNING:tensorflow:Using a while_loop for converting ImageProjectiveTransformV3 cause there is no registered converter for this op.\n"
     ]
    },
    {
     "name": "stdout",
     "output_type": "stream",
     "text": [
      "WARNING:tensorflow:Using a while_loop for converting RngReadAndSkip cause there is no registered converter for this op.\n"
     ]
    },
    {
     "name": "stderr",
     "output_type": "stream",
     "text": [
      "WARNING:tensorflow:Using a while_loop for converting RngReadAndSkip cause there is no registered converter for this op.\n"
     ]
    },
    {
     "name": "stdout",
     "output_type": "stream",
     "text": [
      "WARNING:tensorflow:Using a while_loop for converting Bitcast cause there is no registered converter for this op.\n"
     ]
    },
    {
     "name": "stderr",
     "output_type": "stream",
     "text": [
      "WARNING:tensorflow:Using a while_loop for converting Bitcast cause there is no registered converter for this op.\n"
     ]
    },
    {
     "name": "stdout",
     "output_type": "stream",
     "text": [
      "WARNING:tensorflow:Using a while_loop for converting Bitcast cause there is no registered converter for this op.\n"
     ]
    },
    {
     "name": "stderr",
     "output_type": "stream",
     "text": [
      "WARNING:tensorflow:Using a while_loop for converting Bitcast cause there is no registered converter for this op.\n"
     ]
    },
    {
     "name": "stdout",
     "output_type": "stream",
     "text": [
      "WARNING:tensorflow:Using a while_loop for converting StatelessRandomUniformV2 cause there is no registered converter for this op.\n"
     ]
    },
    {
     "name": "stderr",
     "output_type": "stream",
     "text": [
      "WARNING:tensorflow:Using a while_loop for converting StatelessRandomUniformV2 cause there is no registered converter for this op.\n"
     ]
    },
    {
     "name": "stdout",
     "output_type": "stream",
     "text": [
      "WARNING:tensorflow:Using a while_loop for converting ImageProjectiveTransformV3 cause there is no registered converter for this op.\n"
     ]
    },
    {
     "name": "stderr",
     "output_type": "stream",
     "text": [
      "WARNING:tensorflow:Using a while_loop for converting ImageProjectiveTransformV3 cause there is no registered converter for this op.\n"
     ]
    },
    {
     "name": "stdout",
     "output_type": "stream",
     "text": [
      "WARNING:tensorflow:Using a while_loop for converting RngReadAndSkip cause there is no registered converter for this op.\n"
     ]
    },
    {
     "name": "stderr",
     "output_type": "stream",
     "text": [
      "WARNING:tensorflow:Using a while_loop for converting RngReadAndSkip cause there is no registered converter for this op.\n"
     ]
    },
    {
     "name": "stdout",
     "output_type": "stream",
     "text": [
      "WARNING:tensorflow:Using a while_loop for converting Bitcast cause there is no registered converter for this op.\n"
     ]
    },
    {
     "name": "stderr",
     "output_type": "stream",
     "text": [
      "WARNING:tensorflow:Using a while_loop for converting Bitcast cause there is no registered converter for this op.\n"
     ]
    },
    {
     "name": "stdout",
     "output_type": "stream",
     "text": [
      "WARNING:tensorflow:Using a while_loop for converting Bitcast cause there is no registered converter for this op.\n"
     ]
    },
    {
     "name": "stderr",
     "output_type": "stream",
     "text": [
      "WARNING:tensorflow:Using a while_loop for converting Bitcast cause there is no registered converter for this op.\n"
     ]
    },
    {
     "name": "stdout",
     "output_type": "stream",
     "text": [
      "WARNING:tensorflow:Using a while_loop for converting StatelessRandomUniformV2 cause there is no registered converter for this op.\n"
     ]
    },
    {
     "name": "stderr",
     "output_type": "stream",
     "text": [
      "WARNING:tensorflow:Using a while_loop for converting StatelessRandomUniformV2 cause there is no registered converter for this op.\n"
     ]
    },
    {
     "name": "stdout",
     "output_type": "stream",
     "text": [
      "WARNING:tensorflow:Using a while_loop for converting ImageProjectiveTransformV3 cause there is no registered converter for this op.\n"
     ]
    },
    {
     "name": "stderr",
     "output_type": "stream",
     "text": [
      "WARNING:tensorflow:Using a while_loop for converting ImageProjectiveTransformV3 cause there is no registered converter for this op.\n"
     ]
    },
    {
     "name": "stdout",
     "output_type": "stream",
     "text": [
      "WARNING:tensorflow:Using a while_loop for converting RngReadAndSkip cause there is no registered converter for this op.\n"
     ]
    },
    {
     "name": "stderr",
     "output_type": "stream",
     "text": [
      "WARNING:tensorflow:Using a while_loop for converting RngReadAndSkip cause there is no registered converter for this op.\n"
     ]
    },
    {
     "name": "stdout",
     "output_type": "stream",
     "text": [
      "WARNING:tensorflow:Using a while_loop for converting Bitcast cause there is no registered converter for this op.\n"
     ]
    },
    {
     "name": "stderr",
     "output_type": "stream",
     "text": [
      "WARNING:tensorflow:Using a while_loop for converting Bitcast cause there is no registered converter for this op.\n"
     ]
    },
    {
     "name": "stdout",
     "output_type": "stream",
     "text": [
      "WARNING:tensorflow:Using a while_loop for converting Bitcast cause there is no registered converter for this op.\n"
     ]
    },
    {
     "name": "stderr",
     "output_type": "stream",
     "text": [
      "WARNING:tensorflow:Using a while_loop for converting Bitcast cause there is no registered converter for this op.\n"
     ]
    },
    {
     "name": "stdout",
     "output_type": "stream",
     "text": [
      "WARNING:tensorflow:Using a while_loop for converting StatelessRandomUniformV2 cause there is no registered converter for this op.\n"
     ]
    },
    {
     "name": "stderr",
     "output_type": "stream",
     "text": [
      "WARNING:tensorflow:Using a while_loop for converting StatelessRandomUniformV2 cause there is no registered converter for this op.\n"
     ]
    },
    {
     "name": "stdout",
     "output_type": "stream",
     "text": [
      "WARNING:tensorflow:Using a while_loop for converting ImageProjectiveTransformV3 cause there is no registered converter for this op.\n"
     ]
    },
    {
     "name": "stderr",
     "output_type": "stream",
     "text": [
      "WARNING:tensorflow:Using a while_loop for converting ImageProjectiveTransformV3 cause there is no registered converter for this op.\n",
      "WARNING:absl:Found untraced functions such as _jit_compiled_convolution_op, _jit_compiled_convolution_op, restored_function_body while saving (showing 3 of 3). These functions will not be directly callable after loading.\n"
     ]
    },
    {
     "name": "stdout",
     "output_type": "stream",
     "text": [
      "INFO:tensorflow:Assets written to: Brain_Tumor_Seq\\assets\n"
     ]
    },
    {
     "name": "stderr",
     "output_type": "stream",
     "text": [
      "INFO:tensorflow:Assets written to: Brain_Tumor_Seq\\assets\n"
     ]
    }
   ],
   "source": [
    "# saving our model\n",
    "seq_model.save('Brain_Tumor_Seq')"
   ]
  },
  {
   "cell_type": "code",
   "execution_count": 19,
   "id": "6e9fa1c2-ad18-4532-a64c-380da2ac9239",
   "metadata": {},
   "outputs": [],
   "source": [
    "seq_model = tf.keras.models.load_model(\"Brain_Tumor_Seq\", compile = False)"
   ]
  },
  {
   "cell_type": "code",
   "execution_count": null,
   "id": "3dc92113-a7dd-479b-98df-5518c1e9a65b",
   "metadata": {},
   "outputs": [],
   "source": [
    "# graphing the accuracy and loss in both training and validation datasets\n",
    "epochs = len(history.epoch)\n",
    "accuracy = history.history['categorical_accuracy']\n",
    "val_acc = history.history['val_categorical_accuracy']\n",
    "\n",
    "loss = history.history['loss']\n",
    "val_loss = history.history['val_loss']\n",
    "\n",
    "epochs_range = range(epochs)\n",
    "\n",
    "plt.figure(figsize=(8, 8))\n",
    "plt.subplot(1, 2, 1)\n",
    "plt.plot(epochs_range, accuracy, label='Training Accuracy')\n",
    "plt.plot(epochs_range, val_acc, label='Validation Accuracy')\n",
    "plt.legend(loc='lower right')\n",
    "plt.title('Training and Validation Accuracy')\n",
    "\n",
    "plt.subplot(1, 2, 2)\n",
    "plt.plot(epochs_range, loss, label='Training Loss')\n",
    "plt.plot(epochs_range, val_loss, label='Validation Loss')\n",
    "plt.legend(loc='upper right')\n",
    "plt.title('Training and Validation Loss')\n",
    "plt.show()"
   ]
  },
  {
   "cell_type": "code",
   "execution_count": null,
   "id": "0313f696-1692-4a26-83b0-1480407a2dc8",
   "metadata": {},
   "outputs": [],
   "source": [
    "# graphing the precision and recall in both training and validation datasets\n",
    "epochs = len(history.epoch)\n",
    "precision = history.history['precision_4']\n",
    "val_acc = history.history['val_precision_4']\n",
    "\n",
    "loss = history.history['recall_4']\n",
    "val_loss = history.history['val_recall_4']\n",
    "\n",
    "epochs_range = range(epochs)\n",
    "\n",
    "plt.figure(figsize=(8, 8))\n",
    "plt.subplot(1, 2, 1)\n",
    "plt.plot(epochs_range, accuracy, label='Training Precision')\n",
    "plt.plot(epochs_range, val_acc, label='Validation Precision')\n",
    "plt.legend(loc='lower right')\n",
    "plt.title('Training and Validation Precision')\n",
    "\n",
    "plt.subplot(1, 2, 2)\n",
    "plt.plot(epochs_range, loss, label='Training Recall')\n",
    "plt.plot(epochs_range, val_loss, label='Validation Recall')\n",
    "plt.legend(loc='upper right')\n",
    "plt.title('Training and Validation Recall')\n",
    "plt.show()"
   ]
  },
  {
   "cell_type": "code",
   "execution_count": 24,
   "id": "12bec649-2f11-4e73-bc4a-3bd8689edc60",
   "metadata": {},
   "outputs": [
    {
     "name": "stdout",
     "output_type": "stream",
     "text": [
      "41/41 [==============================] - 36s 853ms/step - loss: 0.2168 - categorical_accuracy: 0.9466 - precision: 0.9495 - recall: 0.9458\n"
     ]
    },
    {
     "data": {
      "text/plain": [
       "[0.21682395040988922,\n",
       " 0.9466056227684021,\n",
       " 0.9494640231132507,\n",
       " 0.9458428621292114]"
      ]
     },
     "execution_count": 24,
     "metadata": {},
     "output_type": "execute_result"
    }
   ],
   "source": [
    "# evaluate the model on the test data\n",
    "scores = seq_model.evaluate(test_dataset)\n",
    "scores"
   ]
  },
  {
   "cell_type": "markdown",
   "id": "e1f75f59-2da7-4c8d-b16b-f3eda61186c7",
   "metadata": {},
   "source": [
    "<h1>SEQ KNN"
   ]
  },
  {
   "cell_type": "code",
   "execution_count": 9,
   "id": "dd131d2c-8f5d-42d4-b93a-6f91abf8c5c3",
   "metadata": {},
   "outputs": [],
   "source": [
    "# get our  feature extrtactor model by removing all layers after the final Max2DPooling Layer\n",
    "kn_model=Model(inputs=seq_model.input,outputs=seq_model.get_layer('feature_layer').output)\n"
   ]
  },
  {
   "cell_type": "code",
   "execution_count": 10,
   "id": "430675db-0374-4fbf-b30a-f102a43adb55",
   "metadata": {},
   "outputs": [
    {
     "name": "stdout",
     "output_type": "stream",
     "text": [
      "WARNING:tensorflow:Compiled the loaded model, but the compiled metrics have yet to be built. `model.compile_metrics` will be empty until you train or evaluate the model.\n",
      "WARNING:tensorflow:Using a while_loop for converting RngReadAndSkip cause there is no registered converter for this op.\n",
      "WARNING:tensorflow:Using a while_loop for converting Bitcast cause there is no registered converter for this op.\n",
      "WARNING:tensorflow:Using a while_loop for converting Bitcast cause there is no registered converter for this op.\n",
      "WARNING:tensorflow:Using a while_loop for converting StatelessRandomUniformV2 cause there is no registered converter for this op.\n",
      "WARNING:tensorflow:Using a while_loop for converting ImageProjectiveTransformV3 cause there is no registered converter for this op.\n",
      "WARNING:tensorflow:Using a while_loop for converting RngReadAndSkip cause there is no registered converter for this op.\n",
      "WARNING:tensorflow:Using a while_loop for converting Bitcast cause there is no registered converter for this op.\n",
      "WARNING:tensorflow:Using a while_loop for converting Bitcast cause there is no registered converter for this op.\n",
      "WARNING:tensorflow:Using a while_loop for converting StatelessRandomUniformV2 cause there is no registered converter for this op.\n",
      "WARNING:tensorflow:Using a while_loop for converting ImageProjectiveTransformV3 cause there is no registered converter for this op.\n",
      "WARNING:tensorflow:Using a while_loop for converting RngReadAndSkip cause there is no registered converter for this op.\n",
      "WARNING:tensorflow:Using a while_loop for converting Bitcast cause there is no registered converter for this op.\n",
      "WARNING:tensorflow:Using a while_loop for converting Bitcast cause there is no registered converter for this op.\n",
      "WARNING:tensorflow:Using a while_loop for converting StatelessRandomUniformV2 cause there is no registered converter for this op.\n",
      "WARNING:tensorflow:Using a while_loop for converting ImageProjectiveTransformV3 cause there is no registered converter for this op.\n",
      "WARNING:tensorflow:Using a while_loop for converting RngReadAndSkip cause there is no registered converter for this op.\n",
      "WARNING:tensorflow:Using a while_loop for converting Bitcast cause there is no registered converter for this op.\n",
      "WARNING:tensorflow:Using a while_loop for converting Bitcast cause there is no registered converter for this op.\n",
      "WARNING:tensorflow:Using a while_loop for converting StatelessRandomUniformV2 cause there is no registered converter for this op.\n",
      "WARNING:tensorflow:Using a while_loop for converting ImageProjectiveTransformV3 cause there is no registered converter for this op.\n"
     ]
    },
    {
     "name": "stderr",
     "output_type": "stream",
     "text": [
      "WARNING:absl:Found untraced functions such as _jit_compiled_convolution_op, _jit_compiled_convolution_op while saving (showing 2 of 2). These functions will not be directly callable after loading.\n"
     ]
    },
    {
     "name": "stdout",
     "output_type": "stream",
     "text": [
      "INFO:tensorflow:Assets written to: Brain_Tumor_KNN\\assets\n"
     ]
    },
    {
     "name": "stderr",
     "output_type": "stream",
     "text": [
      "INFO:tensorflow:Assets written to: Brain_Tumor_KNN\\assets\n"
     ]
    }
   ],
   "source": [
    "# save feature extractor model\n",
    "kn_model.save('Brain_Tumor_KNN')"
   ]
  },
  {
   "cell_type": "code",
   "execution_count": 11,
   "id": "2f6deeab-bd05-4acd-848d-755f0107ee37",
   "metadata": {},
   "outputs": [],
   "source": [
    "# load feature extractor model\n",
    "cnn_model = tf.keras.models.load_model('Brain_Tumor_KNN', compile=False)"
   ]
  },
  {
   "cell_type": "code",
   "execution_count": 12,
   "id": "d935b329-c710-4475-8c37-659c98de51d0",
   "metadata": {},
   "outputs": [
    {
     "name": "stdout",
     "output_type": "stream",
     "text": [
      "179/179 [==============================] - 126s 704ms/step\n",
      "41/41 [==============================] - 32s 785ms/step\n"
     ]
    }
   ],
   "source": [
    "# Obtain our extracted features by running the non shuffled dataset through the feature extraction model\n",
    "cnn_train_x=cnn_model.predict(tr_train_dataset)\n",
    "cnn_test_x=cnn_model.predict(tr_test_dataset)"
   ]
  },
  {
   "cell_type": "code",
   "execution_count": 62,
   "id": "896b61fb-92d6-4f0c-bae7-9409f1656560",
   "metadata": {},
   "outputs": [],
   "source": [
    "# Obtain our y labels to use with the traditional classifiers\n",
    "cnn_y_train=[ np.where(r==1)[0][0] for r in  train_label]\n",
    "cnn_y_test=[ np.where(r==1)[0][0] for r in  test_label]"
   ]
  },
  {
   "cell_type": "code",
   "execution_count": 17,
   "id": "80936550-44f6-4780-b6f7-4103a74e63cb",
   "metadata": {},
   "outputs": [
    {
     "name": "stdout",
     "output_type": "stream",
     "text": [
      "(5712, 45, 45, 64)\n",
      "(1311, 45, 45, 64)\n"
     ]
    }
   ],
   "source": [
    "print(cnn_train_x.shape)\n",
    "print(cnn_test_x.shape)"
   ]
  },
  {
   "cell_type": "code",
   "execution_count": 15,
   "id": "3eafa271-bf63-4842-a488-6653ba130ea3",
   "metadata": {},
   "outputs": [],
   "source": [
    "# resize the images into a single row\n",
    "cnn_x_train=cnn_train_x.reshape(5712,45*45*64)\n",
    "cnn_x_test=cnn_test_x.reshape(1311, 45*45*64)"
   ]
  },
  {
   "cell_type": "code",
   "execution_count": 30,
   "id": "7bf5a02f-2e55-4f06-8cd3-646588648c1d",
   "metadata": {},
   "outputs": [
    {
     "data": {
      "text/plain": [
       "0.9467787114845938"
      ]
     },
     "execution_count": 30,
     "metadata": {},
     "output_type": "execute_result"
    }
   ],
   "source": [
    "# create and train our KNN classifier\n",
    "cnn_knc=KNeighborsClassifier()\n",
    "cnn_knc.fit(cnn_x_train,cnn_y_train)\n",
    "cnn_knc.score(cnn_x_train,cnn_y_train)"
   ]
  },
  {
   "cell_type": "code",
   "execution_count": 34,
   "id": "7b8c07d4-7e37-42dd-9fd5-c335b45d8cbe",
   "metadata": {},
   "outputs": [
    {
     "data": {
      "text/plain": [
       "['cnn_knc.joblib']"
      ]
     },
     "execution_count": 34,
     "metadata": {},
     "output_type": "execute_result"
    }
   ],
   "source": [
    "# save the model\n",
    "dump(cnn_knc, 'cnn_knc.joblib')"
   ]
  },
  {
   "cell_type": "code",
   "execution_count": null,
   "id": "4115e054-d71c-4edb-8ba9-5fd1bde48a20",
   "metadata": {},
   "outputs": [],
   "source": [
    "# load model\n",
    "cnn_knc = joblib.load(\"cnn_knc.joblib\")"
   ]
  },
  {
   "cell_type": "code",
   "execution_count": 35,
   "id": "7112be27-bc85-45a0-9c7b-8e3279265a95",
   "metadata": {},
   "outputs": [],
   "source": [
    "# predict the testing data\n",
    "kn_cnn_y_pred = cnn_knc.predict(cnn_x_test)"
   ]
  },
  {
   "cell_type": "code",
   "execution_count": 37,
   "id": "9754b383-8218-4f06-b6f1-e71e6f664777",
   "metadata": {},
   "outputs": [
    {
     "name": "stdout",
     "output_type": "stream",
     "text": [
      "Accuracy: 0.8810068649885584\n",
      "Precision: 0.8808467815623185\n",
      "Recall: 0.8810068649885584\n"
     ]
    }
   ],
   "source": [
    "# Obtain evaluation metrics of the model\n",
    "kn_cnn_accuracy = accuracy_score(cnn_y_test, kn_cnn_y_pred)\n",
    "kn_cnn_precision = precision_score(cnn_y_test,kn_cnn_y_pred, average = \"weighted\")\n",
    "kn_cnn_recall = recall_score(cnn_y_test, kn_cnn_y_pred, average ='weighted')\n",
    "\n",
    "print(\"Accuracy:\", kn_cnn_accuracy)\n",
    "print('Precision:', kn_cnn_precision)\n",
    "print('Recall:', kn_cnn_recall)\n"
   ]
  },
  {
   "cell_type": "code",
   "execution_count": 57,
   "id": "7259171d-cb79-4e00-b228-937248703f50",
   "metadata": {},
   "outputs": [
    {
     "data": {
      "text/plain": [
       "<sklearn.metrics._plot.confusion_matrix.ConfusionMatrixDisplay at 0x2111372af10>"
      ]
     },
     "execution_count": 57,
     "metadata": {},
     "output_type": "execute_result"
    },
    {
     "data": {
      "image/png": "[encoded data removed]",
      "text/plain": [
       "<Figure size 640x480 with 2 Axes>"
      ]
     },
     "metadata": {},
     "output_type": "display_data"
    }
   ],
   "source": [
    "# create a confusion matrix for the model\n",
    "kn_mcm = confusion_matrix(cnn_y_test, kn_cnn_y_pred, labels = [0, 1, 2, 3])\n",
    "disp = ConfusionMatrixDisplay(confusion_matrix=kn_mcm, display_labels = [\"Glioma\", \"Meningioma\", \"No tumor\", \"Pituitary\"])\n",
    "disp.plot()\n"
   ]
  },
  {
   "cell_type": "markdown",
   "id": "a94d79b2-7ff8-497e-a713-b976a15666d1",
   "metadata": {},
   "source": [
    "<h1>SEQ SVM</h1>"
   ]
  },
  {
   "cell_type": "code",
   "execution_count": 16,
   "id": "abae220c-afcf-495f-9282-c77c823ce597",
   "metadata": {},
   "outputs": [
    {
     "data": {
      "text/plain": [
       "0.989670868347339"
      ]
     },
     "execution_count": 16,
     "metadata": {},
     "output_type": "execute_result"
    }
   ],
   "source": [
    "# create and train the SVM classifier via sklearn\n",
    "cnn_svm=SVC(kernel = 'poly')\n",
    "cnn_svm.fit(cnn_x_train,cnn_y_train)\n",
    "cnn_svm.score(cnn_x_train,cnn_y_train)"
   ]
  },
  {
   "cell_type": "code",
   "execution_count": 58,
   "id": "93d09f01-036e-456d-9a26-99c5c7bb34f3",
   "metadata": {},
   "outputs": [
    {
     "data": {
      "text/plain": [
       "['cnn_svm.joblib']"
      ]
     },
     "execution_count": 58,
     "metadata": {},
     "output_type": "execute_result"
    }
   ],
   "source": [
    "# save the model\n",
    "dump(cnn_svm, 'cnn_svm.joblib')"
   ]
  },
  {
   "cell_type": "code",
   "execution_count": null,
   "id": "069f26da-9e23-49a4-b97d-7f9ae8ad9d94",
   "metadata": {},
   "outputs": [],
   "source": [
    "# load model\n",
    "cnn_svm = joblib.load(\"cnn_svm.joblib\")"
   ]
  },
  {
   "cell_type": "code",
   "execution_count": 17,
   "id": "6c55ad50-17d2-4f18-8eaa-7ff1f4d4625e",
   "metadata": {},
   "outputs": [],
   "source": [
    "# predict the testing data\n",
    "svm_cnn_y_predict=cnn_svm.predict(cnn_x_test)"
   ]
  },
  {
   "cell_type": "code",
   "execution_count": 29,
   "id": "47ccde21-2025-4a81-886e-00c1372ad0c4",
   "metadata": {},
   "outputs": [
    {
     "name": "stdout",
     "output_type": "stream",
     "text": [
      "Accuracy: 0.9610983981693364\n",
      "Precision: 0.9614289498005217\n",
      "Recall: 0.9610983981693364\n"
     ]
    }
   ],
   "source": [
    "# Obtain evaluation metrics of the model\n",
    "svm_cnn_accuracy=accuracy_score(cnn_y_test, svm_cnn_y_predict)\n",
    "svm_cnn_precision = precision_score(cnn_y_test,svm_cnn_y_predict, average = \"weighted\")\n",
    "svm_cnn_recall = recall_score(cnn_y_test, svm_cnn_y_predict, average ='weighted')\n",
    "\n",
    "print(\"Accuracy:\", svm_cnn_accuracy)\n",
    "print('Precision:', svm_cnn_precision)\n",
    "print('Recall:', svm_cnn_recall)"
   ]
  },
  {
   "cell_type": "code",
   "execution_count": 60,
   "id": "d9c11156-f2d5-4e28-85fd-bf24562ee5df",
   "metadata": {},
   "outputs": [
    {
     "data": {
      "text/plain": [
       "<sklearn.metrics._plot.confusion_matrix.ConfusionMatrixDisplay at 0x211139663a0>"
      ]
     },
     "execution_count": 60,
     "metadata": {},
     "output_type": "execute_result"
    },
    {
     "data": {
      "image/png": "[encoded data removed]",
      "text/plain": [
       "<Figure size 640x480 with 2 Axes>"
      ]
     },
     "metadata": {},
     "output_type": "display_data"
    }
   ],
   "source": [
    "# create a confusion matrix for the model\n",
    "sv_mcm = confusion_matrix(cnn_y_test, svm_cnn_y_predict, labels = [0, 1, 2, 3])\n",
    "disp = ConfusionMatrixDisplay(confusion_matrix=sv_mcm, display_labels = [\"Glioma\", \"Meningioma\", \"No tumor\", \"Pituitary\"])\n",
    "disp.plot()"
   ]
  },
  {
   "cell_type": "markdown",
   "id": "c205d7ed-ef45-4d6b-8dbb-ce2b7ee623ab",
   "metadata": {},
   "source": [
    "<h1>RESNET CNN</h1>"
   ]
  },
  {
   "cell_type": "code",
   "execution_count": 9,
   "id": "b617e9d3-f3de-4274-9d22-ae3ea40bbd80",
   "metadata": {},
   "outputs": [
    {
     "name": "stdout",
     "output_type": "stream",
     "text": [
      "(180, 180, 3)\n"
     ]
    }
   ],
   "source": [
    "# load the INNCEPTION RESNET V2 model\n",
    "IMG_SHAPE = IMG_SIZE + (3,)\n",
    "inception_resnetv2 = tf.keras.applications.InceptionResNetV2(\n",
    "    include_top=False,\n",
    "    weights=\"imagenet\",\n",
    "    input_shape=(IMG_SHAPE),\n",
    "    pooling=\"avg\",\n",
    "    classes=4,\n",
    ")\n",
    "print(IMG_SHAPE)\n"
   ]
  },
  {
   "cell_type": "code",
   "execution_count": 10,
   "id": "4b787dbd-bf83-475b-9607-832de3a17b8c",
   "metadata": {},
   "outputs": [],
   "source": [
    "# create a layer to properly preprocess the data for the network\n",
    "preprocess_input = tf.keras.applications.inception_resnet_v2.preprocess_input"
   ]
  },
  {
   "cell_type": "code",
   "execution_count": 11,
   "id": "ea1916db-0dbe-4b89-a5a3-18e13fc91526",
   "metadata": {},
   "outputs": [],
   "source": [
    "# set the model to untrainable for the intial round to train the additional dense layers and softmax classifier\n",
    "inception_resnetv2.trainable = False"
   ]
  },
  {
   "cell_type": "code",
   "execution_count": 19,
   "id": "cf3601ae-d581-49c7-a5db-4ac47f5b50cb",
   "metadata": {},
   "outputs": [],
   "source": [
    "# create the model with the additional classifier\n",
    "inputx = tf.keras.Input(shape=(180, 180, 3))\n",
    "x = data_augmentation(inputx)\n",
    "x = preprocess_input(x)\n",
    "x = inception_resnetv2(x, training=False)\n",
    "x = tf.keras.layers.Flatten()(x)\n",
    "x = tf.keras.layers.Dropout(0.2)(x)\n",
    "x = tf.keras.layers.Dense(256,activation=\"relu\", kernel_initializer='he_uniform')(x)\n",
    "x = tf.keras.layers.Dropout(0.2)(x)\n",
    "x = tf.keras.layers.Dense(4, activation = 'softmax', name = 'outputs')(x)\n",
    "outputx = x\n",
    "model = tf.keras.Model(inputx, outputx)"
   ]
  },
  {
   "cell_type": "code",
   "execution_count": 20,
   "id": "6ba83d76-319a-4a25-a097-c8981f53eed4",
   "metadata": {},
   "outputs": [
    {
     "name": "stdout",
     "output_type": "stream",
     "text": [
      "Model: \"model_4\"\n",
      "_________________________________________________________________\n",
      " Layer (type)                Output Shape              Param #   \n",
      "=================================================================\n",
      " input_3 (InputLayer)        [(None, 180, 180, 3)]     0         \n",
      "                                                                 \n",
      " sequential (Sequential)     (None, 180, 180, 3)       0         \n",
      "                                                                 \n",
      " tf.math.truediv_2 (TFOpLam  (None, 180, 180, 3)       0         \n",
      " bda)                                                            \n",
      "                                                                 \n",
      " tf.math.subtract_2 (TFOpLa  (None, 180, 180, 3)       0         \n",
      " mbda)                                                           \n",
      "                                                                 \n",
      " inception_resnet_v2 (Funct  (None, 1536)              54336736  \n",
      " ional)                                                          \n",
      "                                                                 \n",
      " flatten_1 (Flatten)         (None, 1536)              0         \n",
      "                                                                 \n",
      " dropout_2 (Dropout)         (None, 1536)              0         \n",
      "                                                                 \n",
      " dense_1 (Dense)             (None, 256)               393472    \n",
      "                                                                 \n",
      " dropout_3 (Dropout)         (None, 256)               0         \n",
      "                                                                 \n",
      " outputs (Dense)             (None, 4)                 1028      \n",
      "                                                                 \n",
      "=================================================================\n",
      "Total params: 54731236 (208.78 MB)\n",
      "Trainable params: 394500 (1.50 MB)\n",
      "Non-trainable params: 54336736 (207.28 MB)\n",
      "_________________________________________________________________\n"
     ]
    }
   ],
   "source": [
    "model.summary()"
   ]
  },
  {
   "cell_type": "code",
   "execution_count": 21,
   "id": "8a875113-ff19-4658-b05e-2b932ff9e0c8",
   "metadata": {},
   "outputs": [],
   "source": [
    "# set the base learning rate and compile thhe model\n",
    "base_learning_rate = 0.0001\n",
    "model.compile(optimizer=tf.keras.optimizers.Adam(learning_rate=base_learning_rate),\n",
    "              loss=tf.keras.losses.CategoricalCrossentropy(),\n",
    "              metrics=[tf.keras.metrics.CategoricalAccuracy(name='accuracy'), tf.keras.metrics.Precision(name = 'precision'), tf.keras.metrics.Recall(name = 'recall')])"
   ]
  },
  {
   "cell_type": "code",
   "execution_count": 22,
   "id": "ed47d9ef-1c05-4c76-8fa0-c7307899489d",
   "metadata": {},
   "outputs": [
    {
     "name": "stdout",
     "output_type": "stream",
     "text": [
      "Epoch 1/20\n",
      "143/143 [==============================] - 23s 108ms/step - loss: 0.9911 - accuracy: 0.6298 - precision: 0.6799 - recall: 0.5681 - val_loss: 0.5319 - val_accuracy: 0.7811 - val_precision: 0.8251 - val_recall: 0.7312\n",
      "Epoch 2/20\n",
      "143/143 [==============================] - 13s 89ms/step - loss: 0.6308 - accuracy: 0.7600 - precision: 0.8005 - recall: 0.7123 - val_loss: 0.4626 - val_accuracy: 0.8144 - val_precision: 0.8515 - val_recall: 0.7680\n",
      "Epoch 3/20\n",
      "143/143 [==============================] - 13s 91ms/step - loss: 0.5417 - accuracy: 0.7950 - precision: 0.8300 - recall: 0.7573 - val_loss: 0.4208 - val_accuracy: 0.8319 - val_precision: 0.8687 - val_recall: 0.7995\n",
      "Epoch 4/20\n",
      "143/143 [==============================] - 13s 88ms/step - loss: 0.4903 - accuracy: 0.8208 - precision: 0.8469 - recall: 0.7805 - val_loss: 0.3963 - val_accuracy: 0.8450 - val_precision: 0.8699 - val_recall: 0.8021\n",
      "Epoch 5/20\n",
      "143/143 [==============================] - 13s 90ms/step - loss: 0.4636 - accuracy: 0.8254 - precision: 0.8572 - recall: 0.7947 - val_loss: 0.4013 - val_accuracy: 0.8450 - val_precision: 0.8633 - val_recall: 0.8074\n",
      "Epoch 6/20\n",
      "143/143 [==============================] - 13s 89ms/step - loss: 0.4331 - accuracy: 0.8335 - precision: 0.8616 - recall: 0.8081 - val_loss: 0.3918 - val_accuracy: 0.8485 - val_precision: 0.8724 - val_recall: 0.8205\n",
      "Epoch 7/20\n",
      "143/143 [==============================] - 13s 88ms/step - loss: 0.4152 - accuracy: 0.8446 - precision: 0.8685 - recall: 0.8164 - val_loss: 0.3674 - val_accuracy: 0.8564 - val_precision: 0.8829 - val_recall: 0.8319\n",
      "Epoch 8/20\n",
      "143/143 [==============================] - 13s 92ms/step - loss: 0.3876 - accuracy: 0.8554 - precision: 0.8790 - recall: 0.8269 - val_loss: 0.3409 - val_accuracy: 0.8713 - val_precision: 0.8885 - val_recall: 0.8511\n",
      "Epoch 9/20\n",
      "143/143 [==============================] - 13s 90ms/step - loss: 0.3912 - accuracy: 0.8558 - precision: 0.8786 - recall: 0.8344 - val_loss: 0.3523 - val_accuracy: 0.8669 - val_precision: 0.8905 - val_recall: 0.8476\n",
      "Epoch 10/20\n",
      "143/143 [==============================] - 13s 89ms/step - loss: 0.3812 - accuracy: 0.8556 - precision: 0.8778 - recall: 0.8346 - val_loss: 0.2987 - val_accuracy: 0.8958 - val_precision: 0.9132 - val_recall: 0.8757\n",
      "Epoch 11/20\n",
      "143/143 [==============================] - 13s 90ms/step - loss: 0.3646 - accuracy: 0.8637 - precision: 0.8801 - recall: 0.8414 - val_loss: 0.3177 - val_accuracy: 0.8853 - val_precision: 0.9053 - val_recall: 0.8625\n",
      "Epoch 12/20\n",
      "143/143 [==============================] - 13s 91ms/step - loss: 0.3558 - accuracy: 0.8663 - precision: 0.8859 - recall: 0.8464 - val_loss: 0.2975 - val_accuracy: 0.8888 - val_precision: 0.9031 - val_recall: 0.8730\n",
      "Epoch 13/20\n",
      "143/143 [==============================] - 13s 92ms/step - loss: 0.3315 - accuracy: 0.8755 - precision: 0.8913 - recall: 0.8562 - val_loss: 0.2936 - val_accuracy: 0.8870 - val_precision: 0.9072 - val_recall: 0.8730\n",
      "Epoch 14/20\n",
      "143/143 [==============================] - 13s 92ms/step - loss: 0.3361 - accuracy: 0.8707 - precision: 0.8892 - recall: 0.8503 - val_loss: 0.3339 - val_accuracy: 0.8757 - val_precision: 0.8912 - val_recall: 0.8538\n",
      "Epoch 15/20\n",
      "143/143 [==============================] - 13s 91ms/step - loss: 0.3277 - accuracy: 0.8786 - precision: 0.8970 - recall: 0.8617 - val_loss: 0.2904 - val_accuracy: 0.8897 - val_precision: 0.9076 - val_recall: 0.8862\n",
      "Epoch 16/20\n",
      "143/143 [==============================] - 13s 90ms/step - loss: 0.3146 - accuracy: 0.8803 - precision: 0.8987 - recall: 0.8643 - val_loss: 0.3103 - val_accuracy: 0.8818 - val_precision: 0.8937 - val_recall: 0.8687\n",
      "Epoch 17/20\n",
      "143/143 [==============================] - 13s 91ms/step - loss: 0.3075 - accuracy: 0.8886 - precision: 0.9064 - recall: 0.8729 - val_loss: 0.2722 - val_accuracy: 0.8958 - val_precision: 0.9080 - val_recall: 0.8818\n",
      "Epoch 18/20\n",
      "143/143 [==============================] - 13s 91ms/step - loss: 0.2945 - accuracy: 0.8873 - precision: 0.9070 - recall: 0.8726 - val_loss: 0.2820 - val_accuracy: 0.8967 - val_precision: 0.9090 - val_recall: 0.8835\n",
      "Epoch 19/20\n",
      "143/143 [==============================] - 14s 97ms/step - loss: 0.3017 - accuracy: 0.8897 - precision: 0.9054 - recall: 0.8755 - val_loss: 0.3046 - val_accuracy: 0.8783 - val_precision: 0.8967 - val_recall: 0.8669\n",
      "Epoch 20/20\n",
      "143/143 [==============================] - 13s 89ms/step - loss: 0.2950 - accuracy: 0.8895 - precision: 0.9054 - recall: 0.8733 - val_loss: 0.2565 - val_accuracy: 0.9072 - val_precision: 0.9201 - val_recall: 0.8975\n"
     ]
    }
   ],
   "source": [
    "# train the model\n",
    "initial_epochs = 20\n",
    "\n",
    "history = model.fit(train_dataset,\n",
    "                    epochs=initial_epochs,\n",
    "                    validation_data=val_dataset)"
   ]
  },
  {
   "cell_type": "code",
   "execution_count": 14,
   "id": "5e78ca89-ad72-45f0-98a6-d0f92e24e7b0",
   "metadata": {},
   "outputs": [
    {
     "name": "stdout",
     "output_type": "stream",
     "text": [
      "Number of layers in the base model:  781\n"
     ]
    }
   ],
   "source": [
    "print(\"Number of layers in the base model: \", len(inception_resnetv2.layers))"
   ]
  },
  {
   "cell_type": "code",
   "execution_count": 31,
   "id": "684bc87a-7441-419e-8198-ab7fd7a6cc9a",
   "metadata": {},
   "outputs": [],
   "source": [
    "# now train the transfer learning network on the specific dataset\n",
    "inception_resnetv2.trainable = True\n",
    "\n",
    "# leave the first 200 layers as untrainable\n",
    "fine_tune_at = 200\n",
    "\n",
    "for layer in inception_resnetv2.layers[:fine_tune_at]:\n",
    "  layer.trainable = False"
   ]
  },
  {
   "cell_type": "code",
   "execution_count": 33,
   "id": "c18d4518-5d99-4cd5-a1ce-7a11f7ffc4f6",
   "metadata": {},
   "outputs": [],
   "source": [
    "# compile the new model with the trainable InceptionResNetv2 layer\n",
    "model.compile(loss=tf.keras.losses.CategoricalCrossentropy(),\n",
    "              optimizer = tf.keras.optimizers.RMSprop(learning_rate=base_learning_rate/10),\n",
    "              metrics=[tf.keras.metrics.CategoricalAccuracy(name='accuracy'), tf.keras.metrics.Precision(name = 'precision'), tf.keras.metrics.Recall(name = 'recall')])\n",
    "\n"
   ]
  },
  {
   "cell_type": "code",
   "execution_count": 35,
   "id": "afa45ecf-178a-47eb-bf92-c4554866ce35",
   "metadata": {},
   "outputs": [
    {
     "name": "stdout",
     "output_type": "stream",
     "text": [
      "Epoch 21/40\n",
      "143/143 [==============================] - 26s 182ms/step - loss: 0.0046 - accuracy: 0.9980 - precision: 0.9980 - recall: 0.9980 - val_loss: 0.1337 - val_accuracy: 0.9746 - val_precision: 0.9746 - val_recall: 0.9737\n",
      "Epoch 22/40\n",
      "143/143 [==============================] - 27s 188ms/step - loss: 0.0065 - accuracy: 0.9972 - precision: 0.9972 - recall: 0.9972 - val_loss: 0.1406 - val_accuracy: 0.9746 - val_precision: 0.9755 - val_recall: 0.9746\n",
      "Epoch 23/40\n",
      "143/143 [==============================] - 27s 192ms/step - loss: 0.0032 - accuracy: 0.9991 - precision: 0.9991 - recall: 0.9991 - val_loss: 0.1330 - val_accuracy: 0.9737 - val_precision: 0.9737 - val_recall: 0.9737\n",
      "Epoch 24/40\n",
      "143/143 [==============================] - 27s 186ms/step - loss: 0.0028 - accuracy: 0.9991 - precision: 0.9991 - recall: 0.9991 - val_loss: 0.1331 - val_accuracy: 0.9764 - val_precision: 0.9764 - val_recall: 0.9764\n",
      "Epoch 25/40\n",
      "143/143 [==============================] - 26s 182ms/step - loss: 0.0031 - accuracy: 0.9985 - precision: 0.9985 - recall: 0.9985 - val_loss: 0.1629 - val_accuracy: 0.9755 - val_precision: 0.9755 - val_recall: 0.9755\n",
      "Epoch 26/40\n",
      "143/143 [==============================] - 26s 180ms/step - loss: 0.0047 - accuracy: 0.9987 - precision: 0.9987 - recall: 0.9987 - val_loss: 0.1592 - val_accuracy: 0.9755 - val_precision: 0.9755 - val_recall: 0.9755\n",
      "Epoch 27/40\n",
      "143/143 [==============================] - 26s 183ms/step - loss: 0.0044 - accuracy: 0.9982 - precision: 0.9982 - recall: 0.9982 - val_loss: 0.1366 - val_accuracy: 0.9746 - val_precision: 0.9746 - val_recall: 0.9746\n",
      "Epoch 28/40\n",
      "143/143 [==============================] - 26s 182ms/step - loss: 0.0034 - accuracy: 0.9985 - precision: 0.9985 - recall: 0.9985 - val_loss: 0.1930 - val_accuracy: 0.9737 - val_precision: 0.9746 - val_recall: 0.9737\n",
      "Epoch 29/40\n",
      "143/143 [==============================] - 26s 182ms/step - loss: 0.0063 - accuracy: 0.9972 - precision: 0.9972 - recall: 0.9972 - val_loss: 0.1268 - val_accuracy: 0.9807 - val_precision: 0.9807 - val_recall: 0.9799\n",
      "Epoch 30/40\n",
      "143/143 [==============================] - 26s 182ms/step - loss: 0.0016 - accuracy: 0.9991 - precision: 0.9991 - recall: 0.9991 - val_loss: 0.1651 - val_accuracy: 0.9737 - val_precision: 0.9737 - val_recall: 0.9737\n",
      "Epoch 31/40\n",
      "143/143 [==============================] - 25s 177ms/step - loss: 0.0029 - accuracy: 0.9993 - precision: 0.9993 - recall: 0.9993 - val_loss: 0.1525 - val_accuracy: 0.9746 - val_precision: 0.9746 - val_recall: 0.9746\n",
      "Epoch 32/40\n",
      "143/143 [==============================] - 26s 180ms/step - loss: 0.0026 - accuracy: 0.9987 - precision: 0.9987 - recall: 0.9987 - val_loss: 0.1842 - val_accuracy: 0.9729 - val_precision: 0.9729 - val_recall: 0.9729\n",
      "Epoch 33/40\n",
      "143/143 [==============================] - 27s 187ms/step - loss: 0.0043 - accuracy: 0.9982 - precision: 0.9982 - recall: 0.9982 - val_loss: 0.2367 - val_accuracy: 0.9755 - val_precision: 0.9755 - val_recall: 0.9746\n",
      "Epoch 34/40\n",
      "143/143 [==============================] - 27s 187ms/step - loss: 0.0023 - accuracy: 0.9987 - precision: 0.9987 - recall: 0.9987 - val_loss: 0.2077 - val_accuracy: 0.9746 - val_precision: 0.9746 - val_recall: 0.9746\n",
      "Epoch 35/40\n",
      "143/143 [==============================] - 26s 181ms/step - loss: 0.0022 - accuracy: 0.9989 - precision: 0.9989 - recall: 0.9989 - val_loss: 0.1589 - val_accuracy: 0.9737 - val_precision: 0.9737 - val_recall: 0.9737\n",
      "Epoch 36/40\n",
      "143/143 [==============================] - 25s 177ms/step - loss: 0.0015 - accuracy: 0.9991 - precision: 0.9991 - recall: 0.9991 - val_loss: 0.2139 - val_accuracy: 0.9737 - val_precision: 0.9737 - val_recall: 0.9737\n",
      "Epoch 37/40\n",
      "143/143 [==============================] - 26s 181ms/step - loss: 0.0022 - accuracy: 0.9993 - precision: 0.9993 - recall: 0.9989 - val_loss: 0.1798 - val_accuracy: 0.9746 - val_precision: 0.9746 - val_recall: 0.9746\n",
      "Epoch 38/40\n",
      "143/143 [==============================] - 27s 187ms/step - loss: 0.0016 - accuracy: 0.9989 - precision: 0.9989 - recall: 0.9989 - val_loss: 0.1990 - val_accuracy: 0.9764 - val_precision: 0.9764 - val_recall: 0.9764\n",
      "Epoch 39/40\n",
      "143/143 [==============================] - 26s 183ms/step - loss: 0.0014 - accuracy: 0.9996 - precision: 0.9996 - recall: 0.9996 - val_loss: 0.1628 - val_accuracy: 0.9799 - val_precision: 0.9799 - val_recall: 0.9799\n",
      "Epoch 40/40\n",
      "143/143 [==============================] - 26s 183ms/step - loss: 0.0016 - accuracy: 0.9989 - precision: 0.9989 - recall: 0.9989 - val_loss: 0.1786 - val_accuracy: 0.9790 - val_precision: 0.9790 - val_recall: 0.9790\n"
     ]
    }
   ],
   "source": [
    "# continue trainging\n",
    "history_fine = model.fit(train_dataset,\n",
    "                         epochs=40,\n",
    "                         initial_epoch=20,\n",
    "                         validation_data=val_dataset)"
   ]
  },
  {
   "cell_type": "code",
   "execution_count": 36,
   "id": "146577dc-00d7-4d49-85bf-a523553dbbc7",
   "metadata": {},
   "outputs": [
    {
     "name": "stdout",
     "output_type": "stream",
     "text": [
      "INFO:tensorflow:Assets written to: Res_Model/assets\n"
     ]
    },
    {
     "name": "stderr",
     "output_type": "stream",
     "text": [
      "INFO:tensorflow:Assets written to: Res_Model/assets\n"
     ]
    }
   ],
   "source": [
    "# save model\n",
    "model.save('Res_Model')"
   ]
  },
  {
   "cell_type": "code",
   "execution_count": null,
   "id": "83f651ad-11b3-484b-82fd-95abb1b81b8f",
   "metadata": {},
   "outputs": [],
   "source": [
    "# load the resnet model\n",
    "res_model = tf.keras.models.load_model('Res_Model', compile=False)"
   ]
  },
  {
   "cell_type": "code",
   "execution_count": null,
   "id": "834b7d2c-489c-4e52-a254-e651219c1600",
   "metadata": {},
   "outputs": [],
   "source": [
    "# Graph accuracy and loss of the training and validation datasets\n",
    "epochs = len(history.epoch)\n",
    "accuracy = history.history['accuracy']\n",
    "val_acc = history.history['val_accuracy']\n",
    "\n",
    "loss = history.history['loss']\n",
    "val_loss = history.history['val_loss']\n",
    "\n",
    "epochs_range = range(epochs)\n",
    "\n",
    "plt.figure(figsize=(8, 8))\n",
    "plt.subplot(1, 2, 1)\n",
    "plt.plot(epochs_range, accuracy, label='Training Accuracy')\n",
    "plt.plot(epochs_range, val_acc, label='Validation Accuracy')\n",
    "plt.ylim(0.6, 1)\n",
    "plt.legend(loc='lower right')\n",
    "plt.title('Training and Validation Accuracy')\n",
    "\n",
    "plt.subplot(1, 2, 2)\n",
    "plt.plot(epochs_range, loss, label='Training Loss')\n",
    "plt.plot(epochs_range, val_loss, label='Validation Loss')\n",
    "plt.ylim(0, 0.5)\n",
    "plt.legend(loc='upper right')\n",
    "plt.title('Training and Validation Loss')\n",
    "plt.show()"
   ]
  },
  {
   "cell_type": "code",
   "execution_count": null,
   "id": "3999ca95-043e-4e85-ba8f-2d51e3d211a3",
   "metadata": {},
   "outputs": [],
   "source": [
    "# Graph the precision and recall of the training and validation datasets\n",
    "epochs = len(history.epoch)\n",
    "precision = history.history['precision']\n",
    "val_acc = history.history['val_precision']\n",
    "\n",
    "loss = history.history['recall']\n",
    "val_loss = history.history['val_recall']\n",
    "\n",
    "epochs_range = range(epochs)\n",
    "\n",
    "plt.figure(figsize=(8, 8))\n",
    "plt.subplot(1, 2, 1)\n",
    "plt.plot(epochs_range, accuracy, label='Training Precision')\n",
    "plt.plot(epochs_range, val_acc, label='Validation Precision')\n",
    "plt.legend(loc='lower right')\n",
    "plt.title('Training and Validation Precision')\n",
    "\n",
    "plt.subplot(1, 2, 2)\n",
    "plt.plot(epochs_range, loss, label='Training Recall')\n",
    "plt.plot(epochs_range, val_loss, label='Validation Recall')\n",
    "plt.legend(loc='upper right')\n",
    "plt.title('Training and Validation Recall')\n",
    "plt.show()"
   ]
  },
  {
   "cell_type": "code",
   "execution_count": null,
   "id": "61e53379-3195-4f6d-b485-4567400b6592",
   "metadata": {},
   "outputs": [],
   "source": [
    "# predict the testing dataset and obtain results\n",
    "scores = model.evaluate(test_dataset)\n",
    "scores"
   ]
  },
  {
   "cell_type": "markdown",
   "id": "6161c339-0bfe-481c-821b-1487d3d68b46",
   "metadata": {},
   "source": [
    "<h1>RESNET KNN</h1>"
   ]
  },
  {
   "cell_type": "code",
   "execution_count": null,
   "id": "2cab2ae5-e91b-4ee0-8780-20afb9833d5b",
   "metadata": {},
   "outputs": [],
   "source": [
    "# load the resnet model\n",
    "res_model = tf.keras.models.load_model('Res_Model', compile=False)"
   ]
  },
  {
   "cell_type": "code",
   "execution_count": 39,
   "id": "66b381d7-e109-432a-aab5-5212ed5f7b0c",
   "metadata": {},
   "outputs": [],
   "source": [
    "# remove all items following the resnet layer\n",
    "kn_res_net = Model(inputs=model.inputs,outputs=model.layers[-5].output)"
   ]
  },
  {
   "cell_type": "code",
   "execution_count": 40,
   "id": "71c69656-92a1-47e0-8687-8b8b4af92326",
   "metadata": {},
   "outputs": [
    {
     "name": "stdout",
     "output_type": "stream",
     "text": [
      "WARNING:tensorflow:Compiled the loaded model, but the compiled metrics have yet to be built. `model.compile_metrics` will be empty until you train or evaluate the model.\n"
     ]
    },
    {
     "name": "stderr",
     "output_type": "stream",
     "text": [
      "WARNING:tensorflow:Compiled the loaded model, but the compiled metrics have yet to be built. `model.compile_metrics` will be empty until you train or evaluate the model.\n"
     ]
    },
    {
     "name": "stdout",
     "output_type": "stream",
     "text": [
      "INFO:tensorflow:Assets written to: kn_res/assets\n"
     ]
    },
    {
     "name": "stderr",
     "output_type": "stream",
     "text": [
      "INFO:tensorflow:Assets written to: kn_res/assets\n"
     ]
    }
   ],
   "source": [
    "# save the feature extractor\n",
    "kn_res_net.save('kn_res')"
   ]
  },
  {
   "cell_type": "code",
   "execution_count": 69,
   "id": "66cb112a-f224-4da9-904f-26027b257ffc",
   "metadata": {
    "scrolled": true
   },
   "outputs": [],
   "source": [
    "# load feature extractor\n",
    "res_model = tf.keras.models.load_model('kn_res', compile=False)"
   ]
  },
  {
   "cell_type": "code",
   "execution_count": 77,
   "id": "01f78265-5938-4052-91b2-c626568969f6",
   "metadata": {},
   "outputs": [
    {
     "name": "stdout",
     "output_type": "stream",
     "text": [
      "179/179 [==============================] - 544s 3s/step\n",
      "41/41 [==============================] - 142s 3s/step\n"
     ]
    }
   ],
   "source": [
    "# Obtain our extracted features by running the non shuffled dataset through the feature extraction model\n",
    "res_train_x=res_model.predict(tr_train_dataset)\n",
    "res_test_x=res_model.predict(tr_test_dataset)"
   ]
  },
  {
   "cell_type": "code",
   "execution_count": 78,
   "id": "7a207dd9-451d-4a5a-9cb8-b83580ce01c2",
   "metadata": {},
   "outputs": [],
   "source": [
    "# Convert y labels from one hot to integer\n",
    "res_y_train=[ np.where(r==1)[0][0] for r in  train_label]\n",
    "res_y_test=[ np.where(r==1)[0][0] for r in  test_label]"
   ]
  },
  {
   "cell_type": "code",
   "execution_count": 98,
   "id": "5fb0dec6-7a27-4f0c-9fc5-391fbe432acc",
   "metadata": {},
   "outputs": [
    {
     "data": {
      "text/plain": [
       "0.9952731092436975"
      ]
     },
     "execution_count": 98,
     "metadata": {},
     "output_type": "execute_result"
    }
   ],
   "source": [
    "# create and train the KNN classifier\n",
    "res_knc=KNeighborsClassifier()\n",
    "res_knc.fit(res_train_x,res_y_train)\n",
    "res_knc.score(res_train_x,res_y_train)"
   ]
  },
  {
   "cell_type": "code",
   "execution_count": 46,
   "id": "16cd6581-1efd-4c71-89e6-896eb8eb55d2",
   "metadata": {},
   "outputs": [
    {
     "data": {
      "text/plain": [
       "['res_knc.joblib']"
      ]
     },
     "execution_count": 46,
     "metadata": {},
     "output_type": "execute_result"
    }
   ],
   "source": [
    "# save the model\n",
    "dump(res_knc, 'res_knc.joblib')"
   ]
  },
  {
   "cell_type": "code",
   "execution_count": 75,
   "id": "b0347ed3-4776-4c72-8add-038e31a50721",
   "metadata": {},
   "outputs": [],
   "source": [
    "res_knc = joblib.load(\"res_knc.joblib\")"
   ]
  },
  {
   "cell_type": "code",
   "execution_count": 99,
   "id": "2049435c-5e5b-4a25-91e9-ae47f5bf85d5",
   "metadata": {},
   "outputs": [],
   "source": [
    "# Obtain the predicted y values for our dataset\n",
    "kn_res_y_pred = res_knc.predict(res_test_x)\n"
   ]
  },
  {
   "cell_type": "code",
   "execution_count": 100,
   "id": "7ccffd39-a28f-47a9-90a5-ac393cf4881c",
   "metadata": {},
   "outputs": [
    {
     "name": "stdout",
     "output_type": "stream",
     "text": [
      "Accuracy: 0.9877955758962624\n",
      "Precision: 0.9877910078078872\n",
      "Recall: 0.9877955758962624\n"
     ]
    }
   ],
   "source": [
    "# Gather evaluation metrics\n",
    "kn_res_accuracy = accuracy_score(res_y_test, kn_res_y_pred)\n",
    "kn_res_precision = precision_score(res_y_test,kn_res_y_pred, average = \"weighted\")\n",
    "kn_res_recall = recall_score(res_y_test, kn_res_y_pred, average = \"weighted\")\n",
    "\n",
    "print(\"Accuracy:\", kn_res_accuracy)\n",
    "print(\"Precision:\", kn_res_precision)\n",
    "print(\"Recall:\", kn_res_recall)"
   ]
  },
  {
   "cell_type": "code",
   "execution_count": 101,
   "id": "af86dc39-834c-4ca2-9b50-ae24dbfdeb49",
   "metadata": {},
   "outputs": [
    {
     "data": {
      "text/plain": [
       "<sklearn.metrics._plot.confusion_matrix.ConfusionMatrixDisplay at 0x2112086f9d0>"
      ]
     },
     "execution_count": 101,
     "metadata": {},
     "output_type": "execute_result"
    },
    {
     "data": {
      "image/png": "[encoded data removed]",
      "text/plain": [
       "<Figure size 640x480 with 2 Axes>"
      ]
     },
     "metadata": {},
     "output_type": "display_data"
    }
   ],
   "source": [
    "# create a confusion matrix for the model\n",
    "res_kn_mcm = confusion_matrix(res_y_test, kn_res_y_pred, labels = [0, 1, 2, 3])\n",
    "disp = ConfusionMatrixDisplay(confusion_matrix=res_kn_mcm, display_labels = [\"Glioma\", \"Meningioma\", \"No tumor\", \"Pituitary\"])\n",
    "disp.plot()"
   ]
  },
  {
   "cell_type": "markdown",
   "id": "0153c534-459b-459b-9ca2-eb92e4f99509",
   "metadata": {},
   "source": [
    "<h1>RESNET SVM</h1>"
   ]
  },
  {
   "cell_type": "code",
   "execution_count": 92,
   "id": "5ec7d6e5-b8e9-4a2b-b0ac-8b384dc2f196",
   "metadata": {},
   "outputs": [
    {
     "data": {
      "text/plain": [
       "0.998249299719888"
      ]
     },
     "execution_count": 92,
     "metadata": {},
     "output_type": "execute_result"
    }
   ],
   "source": [
    "# create the SVM model\n",
    "res_svm=SVC(kernel = 'poly')\n",
    "res_svm.fit(res_train_x,res_y_train)\n",
    "res_svm.score(res_train_x, res_y_train)"
   ]
  },
  {
   "cell_type": "code",
   "execution_count": 93,
   "id": "77dc62a3-23c3-46c5-8da1-2902e685dc4a",
   "metadata": {},
   "outputs": [
    {
     "data": {
      "text/plain": [
       "['res_svm.joblib']"
      ]
     },
     "execution_count": 93,
     "metadata": {},
     "output_type": "execute_result"
    }
   ],
   "source": [
    "dump(res_knc, 'res_svm.joblib')"
   ]
  },
  {
   "cell_type": "code",
   "execution_count": 94,
   "id": "031fc420-5c59-40df-9913-103384de2e25",
   "metadata": {},
   "outputs": [],
   "source": [
    "res_svm = joblib.load(\"res_svm.joblib\")"
   ]
  },
  {
   "cell_type": "code",
   "execution_count": 95,
   "id": "dbca0698-0c3b-4a2d-ab39-5e4931b6ec6d",
   "metadata": {},
   "outputs": [],
   "source": [
    "svm_res_y_predict=res_svm.predict(res_test_x)"
   ]
  },
  {
   "cell_type": "code",
   "execution_count": 96,
   "id": "03da9130-310a-4b9a-8069-30791327f445",
   "metadata": {},
   "outputs": [
    {
     "name": "stdout",
     "output_type": "stream",
     "text": [
      "Accuracy: 0.9877955758962624\n",
      "Precision: 0.9877910078078872\n",
      "Recall: 0.9877955758962624\n"
     ]
    }
   ],
   "source": [
    "svm_res_accuracy=accuracy_score(res_y_test, svm_res_y_predict)\n",
    "svm_res_precision = precision_score(res_y_test,svm_res_y_predict, average = \"weighted\")\n",
    "svm_res_recall = recall_score(res_y_test, svm_res_y_predict, average ='weighted')\n",
    "\n",
    "print(\"Accuracy:\", svm_res_accuracy)\n",
    "print('Precision:', svm_res_precision)\n",
    "print('Recall:', svm_res_recall)"
   ]
  },
  {
   "cell_type": "code",
   "execution_count": 97,
   "id": "5fae2411-cf05-4bc9-9a77-b4ce59165ea5",
   "metadata": {},
   "outputs": [
    {
     "data": {
      "text/plain": [
       "<sklearn.metrics._plot.confusion_matrix.ConfusionMatrixDisplay at 0x211207c8910>"
      ]
     },
     "execution_count": 97,
     "metadata": {},
     "output_type": "execute_result"
    },
    {
     "data": {
      "image/png": "[encoded data removed]",
      "text/plain": [
       "<Figure size 640x480 with 2 Axes>"
      ]
     },
     "metadata": {},
     "output_type": "display_data"
    }
   ],
   "source": [
    "# create a confusion matrix for the model\n",
    "res_sv_mcm = confusion_matrix(res_y_test, svm_res_y_predict, labels = [0, 1, 2, 3])\n",
    "disp = ConfusionMatrixDisplay(confusion_matrix=res_sv_mcm, display_labels = [\"Glioma\", \"Meningioma\", \"No tumor\", \"Pituitary\"])\n",
    "disp.plot()"
   ]
  }
 ],
 "metadata": {
  "kernelspec": {
   "display_name": "Python 3 (ipykernel)",
   "language": "python",
   "name": "python3"
  },
  "language_info": {
   "codemirror_mode": {
    "name": "ipython",
    "version": 3
   },
   "file_extension": ".py",
   "mimetype": "text/x-python",
   "name": "python",
   "nbconvert_exporter": "python",
   "pygments_lexer": "ipython3",
   "version": "3.8.18"
  }
 },
 "nbformat": 4,
 "nbformat_minor": 5
}
